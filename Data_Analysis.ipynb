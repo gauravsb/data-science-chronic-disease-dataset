{
 "cells": [
  {
   "cell_type": "code",
   "execution_count": 1,
   "metadata": {},
   "outputs": [],
   "source": [
    "%matplotlib inline\n",
    "\n",
    "import pandas as pd\n",
    "import numpy as np\n",
    "import matplotlib.pyplot as plt"
   ]
  },
  {
   "cell_type": "markdown",
   "metadata": {},
   "source": [
    "CDC Chronic Disease Indicators Dataset: https://catalog.data.gov/dataset/u-s-chronic-disease-indicators-cdi"
   ]
  },
  {
   "cell_type": "markdown",
   "metadata": {},
   "source": [
    "U.S._Chronic_Disease_Indicators_CDI.csv"
   ]
  },
  {
   "cell_type": "code",
   "execution_count": 3,
   "metadata": {},
   "outputs": [],
   "source": [
    "import os"
   ]
  },
  {
   "cell_type": "code",
   "execution_count": 9,
   "metadata": {},
   "outputs": [
    {
     "name": "stdout",
     "output_type": "stream",
     "text": [
      "Chronic_Disease_Indicators_Arthritis_US.csv\r\n",
      "\u001b[34mDS_Workflows_Jupyter5_20180621\u001b[m\u001b[m/\r\n",
      "Data Analysis.ipynb\r\n",
      "\u001b[34mData_Science_Workflows_Jupyter5\u001b[m\u001b[m/\r\n",
      "U.S._Chronic_Disease_Indicators__CDI.csv\r\n"
     ]
    }
   ],
   "source": [
    "ls"
   ]
  },
  {
   "cell_type": "code",
   "execution_count": 5,
   "metadata": {},
   "outputs": [
    {
     "name": "stdout",
     "output_type": "stream",
     "text": [
      "# packages in environment at /anaconda2:\r\n",
      "#\r\n",
      "# Name                    Version                   Build  Channel\r\n",
      "_ipyw_jlab_nb_ext_conf    0.1.0            py27h172cb35_0  \r\n",
      "alabaster                 0.7.10           py27h9dd7d6e_0  \r\n",
      "anaconda                  5.2.0                    py27_3  \r\n",
      "anaconda-client           1.6.14                   py27_0  \r\n",
      "anaconda-navigator        1.8.7                    py27_0  \r\n",
      "anaconda-project          0.8.2            py27h2dc806c_0  \r\n",
      "appnope                   0.1.0            py27hb466136_0  \r\n",
      "appscript                 1.0.1            py27h451298e_1  \r\n",
      "asn1crypto                0.24.0                   py27_0  \r\n",
      "astroid                   1.6.3                    py27_0  \r\n",
      "astropy                   2.0.6            py27h917ab60_1  \r\n",
      "attrs                     18.1.0                   py27_0  \r\n",
      "babel                     2.5.3                    py27_0  \r\n",
      "backports                 1.0              py27hb4f9756_1  \r\n",
      "backports.functools_lru_cache 1.5                      py27_1  \r\n",
      "backports.shutil_get_terminal_size 1.0.0            py27hc9115de_2  \r\n",
      "backports_abc             0.5              py27h6972548_0  \r\n",
      "beautifulsoup4            4.6.0            py27h9416283_1  \r\n",
      "bitarray                  0.8.1            py27h1de35cc_1  \r\n",
      "bkcharts                  0.2              py27haafc882_0  \r\n",
      "blaze                     0.11.3           py27hb49378a_0  \r\n",
      "bleach                    2.1.3                    py27_0  \r\n",
      "blosc                     1.14.3               hd9629dc_0  \r\n",
      "bokeh                     0.12.16                  py27_0  \r\n",
      "boto                      2.48.0           py27hacdd0fd_1  \r\n",
      "bottleneck                1.2.1            py27h71f98a3_0  \r\n",
      "bzip2                     1.0.6                h1de35cc_5  \r\n",
      "ca-certificates           2018.03.07                    0  \r\n",
      "cdecimal                  2.3              py27h1de35cc_3  \r\n",
      "certifi                   2018.4.16                py27_0  \r\n",
      "cffi                      1.11.5           py27h342bebf_0  \r\n",
      "chardet                   3.0.4            py27h2842e91_1  \r\n",
      "click                     6.7              py27h2b86a94_0  \r\n",
      "cloudpickle               0.5.3                    py27_0  \r\n",
      "clyent                    1.2.2            py27hc0ae608_0  \r\n",
      "colorama                  0.3.9            py27hbbe92b6_0  \r\n",
      "conda                     4.5.4                    py27_0  \r\n",
      "conda-build               3.10.5                   py27_0  \r\n",
      "conda-env                 2.6.0                h36134e3_0  \r\n",
      "conda-verify              2.0.0            py27hbebe81d_0  \r\n",
      "configparser              3.5.0            py27hc7edf1b_0  \r\n",
      "contextlib2               0.5.5            py27h9cb85f4_0  \r\n",
      "cryptography              2.2.2            py27h1de35cc_0  \r\n",
      "curl                      7.60.0               ha441bb4_0  \r\n",
      "cycler                    0.10.0           py27hfc73c78_0  \r\n",
      "cython                    0.28.2           py27h1de35cc_0  \r\n",
      "cytoolz                   0.9.0.1          py27h1de35cc_0  \r\n",
      "dask                      0.17.5                   py27_0  \r\n",
      "dask-core                 0.17.5                   py27_0  \r\n",
      "datashape                 0.5.4            py27hd6a1745_0  \r\n",
      "dbus                      1.13.2               h760590f_1  \r\n",
      "decorator                 4.3.0                    py27_0  \r\n",
      "distributed               1.21.8                   py27_0  \r\n",
      "docutils                  0.14             py27h0befae3_0  \r\n",
      "entrypoints               0.2.3            py27hd680fb1_2  \r\n",
      "enum34                    1.1.6            py27hf475452_1  \r\n",
      "et_xmlfile                1.0.1            py27hc42f929_0  \r\n",
      "expat                     2.2.5                hb8e80ba_0  \r\n",
      "fastcache                 1.0.2            py27h1de35cc_2  \r\n",
      "filelock                  3.0.4                    py27_0  \r\n",
      "flask                     1.0.2                    py27_1  \r\n",
      "flask-cors                3.0.4                    py27_0  \r\n",
      "freetype                  2.8                  h12048fb_1  \r\n",
      "funcsigs                  1.0.2            py27hb9f6266_0  \r\n",
      "functools32               3.2.3.2          py27h8ceab06_1  \r\n",
      "futures                   3.2.0            py27h1b80678_0  \r\n",
      "get_terminal_size         1.0.0                h7520d66_0  \r\n",
      "gettext                   0.19.8.1             h15daf44_3  \r\n",
      "gevent                    1.3.0            py27h1de35cc_0  \r\n",
      "glib                      2.56.1               h35bc53a_0  \r\n",
      "glob2                     0.6              py27h55c9705_0  \r\n",
      "gmp                       6.1.2                hb37e062_1  \r\n",
      "gmpy2                     2.0.8            py27h4bc979a_2  \r\n",
      "greenlet                  0.4.13           py27h1de35cc_0  \r\n",
      "grin                      1.2.1                    py27_4  \r\n",
      "h5py                      2.7.1            py27ha8ecd60_2  \r\n",
      "hdf5                      1.10.2               hfa1e0ec_1  \r\n",
      "heapdict                  1.0.0                    py27_2  \r\n",
      "html5lib                  1.0.1            py27h5233db4_0  \r\n",
      "icu                       58.2                 h4b95b61_1  \r\n",
      "idna                      2.6              py27hedea723_1  \r\n",
      "imageio                   2.3.0                    py27_0  \r\n",
      "imagesize                 1.0.0                    py27_0  \r\n",
      "intel-openmp              2018.0.0                      8  \r\n",
      "ipaddress                 1.0.22                   py27_0  \r\n",
      "ipykernel                 4.8.2                    py27_0  \r\n",
      "ipython                   5.7.0                    py27_0  \r\n",
      "ipython_genutils          0.2.0            py27h8b9a179_0  \r\n",
      "ipywidgets                7.2.1                    py27_0  \r\n",
      "isort                     4.3.4                    py27_0  \r\n",
      "itsdangerous              0.24             py27h3948ded_1  \r\n",
      "jbig                      2.1                  h4d881f8_0  \r\n",
      "jdcal                     1.4                      py27_0  \r\n",
      "jedi                      0.12.0                   py27_1  \r\n",
      "jinja2                    2.10             py27h70b8dc5_0  \r\n",
      "jpeg                      9b                   he5867d9_2  \r\n",
      "jsonschema                2.6.0            py27hd9b497e_0  \r\n",
      "jupyter                   1.0.0                    py27_4  \r\n",
      "jupyter_client            5.2.3                    py27_0  \r\n",
      "jupyter_console           5.2.0            py27h9702a86_1  \r\n",
      "jupyter_core              4.4.0            py27h5ea6ba4_0  \r\n",
      "jupyterlab                0.32.1                   py27_0  \r\n",
      "jupyterlab_launcher       0.10.5                   py27_0  \r\n",
      "kiwisolver                1.0.1            py27h9856860_0  \r\n",
      "lazy-object-proxy         1.3.1            py27h712ce3f_0  \r\n",
      "libcurl                   7.60.0               hf30b1f0_0  \r\n",
      "libcxx                    4.0.1                h579ed51_0  \r\n",
      "libcxxabi                 4.0.1                hebd6815_0  \r\n",
      "libedit                   3.1.20170329         hb402a30_2  \r\n",
      "libffi                    3.2.1                h475c297_4  \r\n",
      "libgfortran               3.0.1                h93005f0_2  \r\n",
      "libiconv                  1.15                 hdd342a3_7  \r\n",
      "libopenblas               0.2.20               hdc02c5d_4  \r\n",
      "libpng                    1.6.34               he12f830_0  \r\n",
      "libsodium                 1.0.16               h3efe00b_0  \r\n",
      "libssh2                   1.8.0                h322a93b_4  \r\n",
      "libtiff                   4.0.9                hcb84e12_1  \r\n",
      "libxml2                   2.9.8                hab757c2_1  \r\n",
      "libxslt                   1.1.32               hb819dd2_0  \r\n",
      "llvmlite                  0.23.1           py27hc454e04_0  \r\n",
      "locket                    0.2.0            py27ha10513d_1  \r\n",
      "lxml                      4.2.1            py27h7166777_0  \r\n",
      "lzo                       2.10                 h362108e_2  \r\n",
      "markupsafe                1.0              py27hd3c86fa_1  \r\n",
      "matplotlib                2.2.2            py27ha7267d0_0  \r\n",
      "mccabe                    0.6.1            py27h1f69e8d_0  \r\n",
      "mistune                   0.8.3            py27h1de35cc_1  \r\n",
      "mkl                       2018.0.2                      1  \r\n",
      "mkl-service               1.1.2            py27hcba3029_4  \r\n",
      "more-itertools            4.1.0                    py27_0  \r\n",
      "mpc                       1.0.3                h7a72875_5  \r\n",
      "mpfr                      3.1.5                h711e7fd_2  \r\n",
      "mpmath                    1.0.0            py27h6b0eff6_2  \r\n",
      "msgpack-python            0.5.6            py27h04f5b5a_0  \r\n",
      "multipledispatch          0.5.0                    py27_0  \r\n",
      "navigator-updater         0.2.1                    py27_0  \r\n",
      "nbconvert                 5.3.1            py27h6455e4c_0  \r\n",
      "nbformat                  4.4.0            py27hddc86d0_0  \r\n",
      "ncurses                   6.1                  h0a44026_0  \r\n",
      "networkx                  2.1                      py27_0  \r\n",
      "nltk                      3.3.0                    py27_0  \r\n",
      "nose                      1.3.7            py27h2ee3cb8_2  \r\n",
      "notebook                  5.5.0                    py27_0  \r\n",
      "numba                     0.38.0           py27h1702cab_0  \r\n",
      "numexpr                   2.6.5            py27h057f876_0  \r\n",
      "numpy                     1.14.3           py27he6379a5_1  \r\n",
      "numpy-base                1.14.3           py27h7ef55bc_1  \r\n",
      "numpydoc                  0.8.0                    py27_0  \r\n",
      "odo                       0.5.1            py27h992a9f7_0  \r\n",
      "olefile                   0.45.1                   py27_0  \r\n",
      "openpyxl                  2.5.3                    py27_0  \r\n",
      "openssl                   1.0.2o               h26aff7b_0  \r\n",
      "packaging                 17.1                     py27_0  \r\n",
      "pandas                    0.23.0           py27h1702cab_0  \r\n",
      "pandoc                    1.19.2.1             ha5e8f32_1  \r\n",
      "pandocfilters             1.4.2            py27hed78c4e_1  \r\n",
      "parso                     0.2.0                    py27_0  \r\n",
      "partd                     0.3.8            py27h7560dbf_0  \r\n",
      "path.py                   11.0.1                   py27_0  \r\n",
      "pathlib2                  2.3.2                    py27_0  \r\n",
      "patsy                     0.5.0                    py27_0  \r\n",
      "pcre                      8.42                 h378b8a2_0  \r\n",
      "pep8                      1.7.1                    py27_0  \r\n",
      "pexpect                   4.5.0                    py27_0  \r\n",
      "pickleshare               0.7.4            py27h37e3d41_0  \r\n",
      "pillow                    5.1.0            py27hfcce615_0  \r\n",
      "pip                       10.0.1                   py27_0  \r\n",
      "pkginfo                   1.4.2                    py27_1  \r\n",
      "pluggy                    0.6.0            py27had36429_0  \r\n",
      "ply                       3.11                     py27_0  \r\n",
      "prompt_toolkit            1.0.15           py27h4a7b9c2_0  \r\n",
      "psutil                    5.4.5            py27h1de35cc_0  \r\n",
      "ptyprocess                0.5.2            py27h70f6364_0  \r\n",
      "py                        1.5.3                    py27_0  \r\n",
      "pyaudio                   0.2.7            py27h3777516_1  \r\n",
      "pycodestyle               2.4.0                    py27_0  \r\n",
      "pycosat                   0.6.3            py27h6c51c7e_0  \r\n",
      "pycparser                 2.18             py27h0d28d88_1  \r\n",
      "pycrypto                  2.6.1            py27h1de35cc_8  \r\n",
      "pycurl                    7.43.0.1         py27hdbc3d79_0  \r\n",
      "pyflakes                  1.6.0            py27h4446e76_0  \r\n",
      "pygments                  2.2.0            py27h1a556bb_0  \r\n",
      "pylint                    1.8.4                    py27_0  \r\n",
      "pyodbc                    4.0.23           py27h0a44026_0  \r\n",
      "pyopenssl                 18.0.0                   py27_0  \r\n",
      "pyparsing                 2.2.0            py27h5bb6aaf_0  \r\n",
      "pyqt                      5.9.2            py27h11d3b92_0  \r\n",
      "pysocks                   1.6.8                    py27_0  \r\n",
      "pytables                  3.4.3            py27h5ca999c_2  \r\n",
      "pytest                    3.5.1                    py27_0  \r\n",
      "python                    2.7.15               h138c1fe_0  \r\n",
      "python-dateutil           2.7.3                    py27_0  \r\n",
      "python.app                2                py27hf2d5e94_7  \r\n",
      "pytz                      2018.4                   py27_0  \r\n",
      "pywavelets                0.5.2            py27hd99e88a_0  \r\n",
      "pyyaml                    3.12             py27ha7932d0_1  \r\n",
      "pyzmq                     17.0.0           py27h1de35cc_1  \r\n",
      "qt                        5.9.5                h02808f3_0  \r\n",
      "qtawesome                 0.4.4            py27hdeb2f59_0  \r\n",
      "qtconsole                 4.3.1            py27hdc90b4f_0  \r\n",
      "qtpy                      1.4.1                    py27_0  \r\n",
      "readline                  7.0                  hc1231fa_4  \r\n",
      "requests                  2.18.4           py27h9b2b37c_1  \r\n",
      "rope                      0.10.7           py27hffa1879_0  \r\n",
      "ruamel_yaml               0.15.35          py27h1de35cc_1  \r\n",
      "scandir                   1.7              py27h1de35cc_0  \r\n",
      "scikit-image              0.13.1           py27h1de35cc_1  \r\n",
      "scikit-learn              0.19.1           py27h9788993_0  \r\n",
      "scipy                     1.1.0            py27hcaad992_0  \r\n",
      "seaborn                   0.8.1            py27h6bd0ddc_0  \r\n",
      "send2trash                1.5.0                    py27_0  \r\n",
      "setuptools                39.1.0                   py27_0  \r\n",
      "simplegeneric             0.8.1                    py27_2  \r\n",
      "singledispatch            3.4.0.3          py27he22c18d_0  \r\n",
      "sip                       4.19.8           py27h0a44026_0  \r\n",
      "six                       1.11.0           py27h7252ba3_1  \r\n",
      "snappy                    1.1.7                he62c110_3  \r\n",
      "snowballstemmer           1.2.1            py27h68ac032_0  \r\n",
      "sortedcollections         0.6.1                    py27_0  \r\n",
      "sortedcontainers          1.5.10                   py27_0  \r\n",
      "sphinx                    1.7.4                    py27_0  \r\n",
      "sphinxcontrib             1.0              py27hd2ed746_1  \r\n",
      "sphinxcontrib-websupport  1.0.1            py27h857890b_1  \r\n",
      "spyder                    3.2.8                    py27_0  \r\n",
      "sqlalchemy                1.2.7            py27hb402a30_0  \r\n",
      "sqlite                    3.23.1               hf1716c9_0  \r\n",
      "ssl_match_hostname        3.5.0.1          py27h8780752_2  \r\n",
      "statsmodels               0.9.0            py27h917ab60_0  \r\n",
      "subprocess32              3.5.0            py27h1de35cc_0  \r\n",
      "sympy                     1.1.1            py27hce55102_0  \r\n",
      "tblib                     1.3.2            py27ha684fc4_0  \r\n",
      "terminado                 0.8.1                    py27_1  \r\n",
      "testpath                  0.3.1            py27h72d81a5_0  \r\n",
      "tk                        8.6.7                h35a86e2_3  \r\n",
      "toolz                     0.9.0                    py27_0  \r\n",
      "tornado                   5.0.2                    py27_0  \r\n",
      "traitlets                 4.3.2            py27hcf08151_0  \r\n",
      "typing                    3.6.4                    py27_0  \r\n",
      "unicodecsv                0.14.1           py27h170f95c_0  \r\n",
      "unixodbc                  2.3.6                h3efe00b_0  \r\n",
      "urllib3                   1.22             py27hc3787e9_0  \r\n",
      "wcwidth                   0.1.7            py27h817c265_0  \r\n",
      "webencodings              0.5.1            py27h19a9f58_1  \r\n",
      "werkzeug                  0.14.1                   py27_0  \r\n",
      "wheel                     0.31.1                   py27_0  \r\n",
      "widgetsnbextension        3.2.1                    py27_0  \r\n",
      "wrapt                     1.10.11          py27hd341262_0  \r\n",
      "xlrd                      1.1.0            py27hbd41ed1_1  \r\n",
      "xlsxwriter                1.0.4                    py27_0  \r\n",
      "xlwings                   0.11.8                   py27_0  \r\n",
      "xlwt                      1.2.0            py27hbeec4ae_0  \r\n",
      "xz                        5.2.4                h1de35cc_4  \r\n",
      "yaml                      0.1.7                hc338f04_2  \r\n",
      "zeromq                    4.2.5                h378b8a2_0  \r\n",
      "zict                      0.1.3            py27h5fff8b1_0  \r\n",
      "zlib                      1.2.11               hf3cbc9b_2  \r\n"
     ]
    }
   ],
   "source": [
    "!conda list"
   ]
  },
  {
   "cell_type": "code",
   "execution_count": 10,
   "metadata": {},
   "outputs": [
    {
     "name": "stderr",
     "output_type": "stream",
     "text": [
      "/anaconda2/lib/python2.7/site-packages/IPython/core/interactiveshell.py:2714: DtypeWarning: Columns (7,10,18,19,20,21,23,30,31,32,33) have mixed types. Specify dtype option on import or set low_memory=False.\n",
      "  interactivity=interactivity, compiler=compiler, result=result)\n"
     ]
    }
   ],
   "source": [
    "df_cdi = pd.read_csv('U.S._Chronic_Disease_Indicators_CDI.csv')"
   ]
  },
  {
   "cell_type": "code",
   "execution_count": 11,
   "metadata": {},
   "outputs": [],
   "source": [
    "df_cdi = pd.read_csv('U.S._Chronic_Disease_Indicators_CDI.csv', low_memory=False)"
   ]
  },
  {
   "cell_type": "code",
   "execution_count": 36,
   "metadata": {},
   "outputs": [],
   "source": [
    "df_cdi = pd.read_csv('U.S._Chronic_Disease_Indicators_CDI.csv', encoding='latin1', dtype=object)"
   ]
  },
  {
   "cell_type": "markdown",
   "metadata": {},
   "source": [
    "##### Find the shape of dataframe"
   ]
  },
  {
   "cell_type": "code",
   "execution_count": 37,
   "metadata": {},
   "outputs": [
    {
     "data": {
      "text/plain": [
       "(519718, 34)"
      ]
     },
     "execution_count": 37,
     "metadata": {},
     "output_type": "execute_result"
    }
   ],
   "source": [
    "df_cdi.shape"
   ]
  },
  {
   "cell_type": "code",
   "execution_count": 38,
   "metadata": {},
   "outputs": [
    {
     "data": {
      "text/html": [
       "<div>\n",
       "<style scoped>\n",
       "    .dataframe tbody tr th:only-of-type {\n",
       "        vertical-align: middle;\n",
       "    }\n",
       "\n",
       "    .dataframe tbody tr th {\n",
       "        vertical-align: top;\n",
       "    }\n",
       "\n",
       "    .dataframe thead th {\n",
       "        text-align: right;\n",
       "    }\n",
       "</style>\n",
       "<table border=\"1\" class=\"dataframe\">\n",
       "  <thead>\n",
       "    <tr style=\"text-align: right;\">\n",
       "      <th></th>\n",
       "      <th>YearStart</th>\n",
       "      <th>YearEnd</th>\n",
       "      <th>LocationAbbr</th>\n",
       "      <th>LocationDesc</th>\n",
       "      <th>DataSource</th>\n",
       "      <th>Topic</th>\n",
       "      <th>Question</th>\n",
       "      <th>Response</th>\n",
       "      <th>DataValueUnit</th>\n",
       "      <th>DataValueType</th>\n",
       "      <th>...</th>\n",
       "      <th>LocationID</th>\n",
       "      <th>TopicID</th>\n",
       "      <th>QuestionID</th>\n",
       "      <th>DataValueTypeID</th>\n",
       "      <th>StratificationCategoryID1</th>\n",
       "      <th>StratificationID1</th>\n",
       "      <th>StratificationCategoryID2</th>\n",
       "      <th>StratificationID2</th>\n",
       "      <th>StratificationCategoryID3</th>\n",
       "      <th>StratificationID3</th>\n",
       "    </tr>\n",
       "  </thead>\n",
       "  <tbody>\n",
       "    <tr>\n",
       "      <th>0</th>\n",
       "      <td>2016</td>\n",
       "      <td>2016</td>\n",
       "      <td>US</td>\n",
       "      <td>United States</td>\n",
       "      <td>BRFSS</td>\n",
       "      <td>Alcohol</td>\n",
       "      <td>Binge drinking prevalence among adults aged &gt;=...</td>\n",
       "      <td>NaN</td>\n",
       "      <td>%</td>\n",
       "      <td>Crude Prevalence</td>\n",
       "      <td>...</td>\n",
       "      <td>59</td>\n",
       "      <td>ALC</td>\n",
       "      <td>ALC2_2</td>\n",
       "      <td>CRDPREV</td>\n",
       "      <td>OVERALL</td>\n",
       "      <td>OVR</td>\n",
       "      <td>NaN</td>\n",
       "      <td>NaN</td>\n",
       "      <td>NaN</td>\n",
       "      <td>NaN</td>\n",
       "    </tr>\n",
       "    <tr>\n",
       "      <th>1</th>\n",
       "      <td>2016</td>\n",
       "      <td>2016</td>\n",
       "      <td>AL</td>\n",
       "      <td>Alabama</td>\n",
       "      <td>BRFSS</td>\n",
       "      <td>Alcohol</td>\n",
       "      <td>Binge drinking prevalence among adults aged &gt;=...</td>\n",
       "      <td>NaN</td>\n",
       "      <td>%</td>\n",
       "      <td>Crude Prevalence</td>\n",
       "      <td>...</td>\n",
       "      <td>01</td>\n",
       "      <td>ALC</td>\n",
       "      <td>ALC2_2</td>\n",
       "      <td>CRDPREV</td>\n",
       "      <td>OVERALL</td>\n",
       "      <td>OVR</td>\n",
       "      <td>NaN</td>\n",
       "      <td>NaN</td>\n",
       "      <td>NaN</td>\n",
       "      <td>NaN</td>\n",
       "    </tr>\n",
       "    <tr>\n",
       "      <th>2</th>\n",
       "      <td>2016</td>\n",
       "      <td>2016</td>\n",
       "      <td>AK</td>\n",
       "      <td>Alaska</td>\n",
       "      <td>BRFSS</td>\n",
       "      <td>Alcohol</td>\n",
       "      <td>Binge drinking prevalence among adults aged &gt;=...</td>\n",
       "      <td>NaN</td>\n",
       "      <td>%</td>\n",
       "      <td>Crude Prevalence</td>\n",
       "      <td>...</td>\n",
       "      <td>02</td>\n",
       "      <td>ALC</td>\n",
       "      <td>ALC2_2</td>\n",
       "      <td>CRDPREV</td>\n",
       "      <td>OVERALL</td>\n",
       "      <td>OVR</td>\n",
       "      <td>NaN</td>\n",
       "      <td>NaN</td>\n",
       "      <td>NaN</td>\n",
       "      <td>NaN</td>\n",
       "    </tr>\n",
       "    <tr>\n",
       "      <th>3</th>\n",
       "      <td>2016</td>\n",
       "      <td>2016</td>\n",
       "      <td>AZ</td>\n",
       "      <td>Arizona</td>\n",
       "      <td>BRFSS</td>\n",
       "      <td>Alcohol</td>\n",
       "      <td>Binge drinking prevalence among adults aged &gt;=...</td>\n",
       "      <td>NaN</td>\n",
       "      <td>%</td>\n",
       "      <td>Crude Prevalence</td>\n",
       "      <td>...</td>\n",
       "      <td>04</td>\n",
       "      <td>ALC</td>\n",
       "      <td>ALC2_2</td>\n",
       "      <td>CRDPREV</td>\n",
       "      <td>OVERALL</td>\n",
       "      <td>OVR</td>\n",
       "      <td>NaN</td>\n",
       "      <td>NaN</td>\n",
       "      <td>NaN</td>\n",
       "      <td>NaN</td>\n",
       "    </tr>\n",
       "    <tr>\n",
       "      <th>4</th>\n",
       "      <td>2016</td>\n",
       "      <td>2016</td>\n",
       "      <td>AR</td>\n",
       "      <td>Arkansas</td>\n",
       "      <td>BRFSS</td>\n",
       "      <td>Alcohol</td>\n",
       "      <td>Binge drinking prevalence among adults aged &gt;=...</td>\n",
       "      <td>NaN</td>\n",
       "      <td>%</td>\n",
       "      <td>Crude Prevalence</td>\n",
       "      <td>...</td>\n",
       "      <td>05</td>\n",
       "      <td>ALC</td>\n",
       "      <td>ALC2_2</td>\n",
       "      <td>CRDPREV</td>\n",
       "      <td>OVERALL</td>\n",
       "      <td>OVR</td>\n",
       "      <td>NaN</td>\n",
       "      <td>NaN</td>\n",
       "      <td>NaN</td>\n",
       "      <td>NaN</td>\n",
       "    </tr>\n",
       "  </tbody>\n",
       "</table>\n",
       "<p>5 rows × 34 columns</p>\n",
       "</div>"
      ],
      "text/plain": [
       "  YearStart YearEnd LocationAbbr   LocationDesc DataSource    Topic  \\\n",
       "0      2016    2016           US  United States      BRFSS  Alcohol   \n",
       "1      2016    2016           AL        Alabama      BRFSS  Alcohol   \n",
       "2      2016    2016           AK         Alaska      BRFSS  Alcohol   \n",
       "3      2016    2016           AZ        Arizona      BRFSS  Alcohol   \n",
       "4      2016    2016           AR       Arkansas      BRFSS  Alcohol   \n",
       "\n",
       "                                            Question Response DataValueUnit  \\\n",
       "0  Binge drinking prevalence among adults aged >=...      NaN             %   \n",
       "1  Binge drinking prevalence among adults aged >=...      NaN             %   \n",
       "2  Binge drinking prevalence among adults aged >=...      NaN             %   \n",
       "3  Binge drinking prevalence among adults aged >=...      NaN             %   \n",
       "4  Binge drinking prevalence among adults aged >=...      NaN             %   \n",
       "\n",
       "      DataValueType        ...        LocationID TopicID QuestionID  \\\n",
       "0  Crude Prevalence        ...                59     ALC     ALC2_2   \n",
       "1  Crude Prevalence        ...                01     ALC     ALC2_2   \n",
       "2  Crude Prevalence        ...                02     ALC     ALC2_2   \n",
       "3  Crude Prevalence        ...                04     ALC     ALC2_2   \n",
       "4  Crude Prevalence        ...                05     ALC     ALC2_2   \n",
       "\n",
       "  DataValueTypeID StratificationCategoryID1 StratificationID1  \\\n",
       "0         CRDPREV                   OVERALL               OVR   \n",
       "1         CRDPREV                   OVERALL               OVR   \n",
       "2         CRDPREV                   OVERALL               OVR   \n",
       "3         CRDPREV                   OVERALL               OVR   \n",
       "4         CRDPREV                   OVERALL               OVR   \n",
       "\n",
       "  StratificationCategoryID2 StratificationID2 StratificationCategoryID3  \\\n",
       "0                       NaN               NaN                       NaN   \n",
       "1                       NaN               NaN                       NaN   \n",
       "2                       NaN               NaN                       NaN   \n",
       "3                       NaN               NaN                       NaN   \n",
       "4                       NaN               NaN                       NaN   \n",
       "\n",
       "  StratificationID3  \n",
       "0               NaN  \n",
       "1               NaN  \n",
       "2               NaN  \n",
       "3               NaN  \n",
       "4               NaN  \n",
       "\n",
       "[5 rows x 34 columns]"
      ]
     },
     "execution_count": 38,
     "metadata": {},
     "output_type": "execute_result"
    }
   ],
   "source": [
    "df_cdi.head()"
   ]
  },
  {
   "cell_type": "code",
   "execution_count": 39,
   "metadata": {},
   "outputs": [
    {
     "data": {
      "text/html": [
       "<div>\n",
       "<style scoped>\n",
       "    .dataframe tbody tr th:only-of-type {\n",
       "        vertical-align: middle;\n",
       "    }\n",
       "\n",
       "    .dataframe tbody tr th {\n",
       "        vertical-align: top;\n",
       "    }\n",
       "\n",
       "    .dataframe thead th {\n",
       "        text-align: right;\n",
       "    }\n",
       "</style>\n",
       "<table border=\"1\" class=\"dataframe\">\n",
       "  <thead>\n",
       "    <tr style=\"text-align: right;\">\n",
       "      <th></th>\n",
       "      <th>YearStart</th>\n",
       "      <th>YearEnd</th>\n",
       "      <th>LocationAbbr</th>\n",
       "      <th>LocationDesc</th>\n",
       "      <th>DataSource</th>\n",
       "      <th>Topic</th>\n",
       "      <th>Question</th>\n",
       "      <th>Response</th>\n",
       "      <th>DataValueUnit</th>\n",
       "      <th>DataValueType</th>\n",
       "      <th>...</th>\n",
       "      <th>LocationID</th>\n",
       "      <th>TopicID</th>\n",
       "      <th>QuestionID</th>\n",
       "      <th>DataValueTypeID</th>\n",
       "      <th>StratificationCategoryID1</th>\n",
       "      <th>StratificationID1</th>\n",
       "      <th>StratificationCategoryID2</th>\n",
       "      <th>StratificationID2</th>\n",
       "      <th>StratificationCategoryID3</th>\n",
       "      <th>StratificationID3</th>\n",
       "    </tr>\n",
       "  </thead>\n",
       "  <tbody>\n",
       "    <tr>\n",
       "      <th>0</th>\n",
       "      <td>2016</td>\n",
       "      <td>2016</td>\n",
       "      <td>US</td>\n",
       "      <td>United States</td>\n",
       "      <td>BRFSS</td>\n",
       "      <td>Alcohol</td>\n",
       "      <td>Binge drinking prevalence among adults aged &gt;=...</td>\n",
       "      <td>NaN</td>\n",
       "      <td>%</td>\n",
       "      <td>Crude Prevalence</td>\n",
       "      <td>...</td>\n",
       "      <td>59</td>\n",
       "      <td>ALC</td>\n",
       "      <td>ALC2_2</td>\n",
       "      <td>CRDPREV</td>\n",
       "      <td>OVERALL</td>\n",
       "      <td>OVR</td>\n",
       "      <td>NaN</td>\n",
       "      <td>NaN</td>\n",
       "      <td>NaN</td>\n",
       "      <td>NaN</td>\n",
       "    </tr>\n",
       "    <tr>\n",
       "      <th>1</th>\n",
       "      <td>2016</td>\n",
       "      <td>2016</td>\n",
       "      <td>AL</td>\n",
       "      <td>Alabama</td>\n",
       "      <td>BRFSS</td>\n",
       "      <td>Alcohol</td>\n",
       "      <td>Binge drinking prevalence among adults aged &gt;=...</td>\n",
       "      <td>NaN</td>\n",
       "      <td>%</td>\n",
       "      <td>Crude Prevalence</td>\n",
       "      <td>...</td>\n",
       "      <td>01</td>\n",
       "      <td>ALC</td>\n",
       "      <td>ALC2_2</td>\n",
       "      <td>CRDPREV</td>\n",
       "      <td>OVERALL</td>\n",
       "      <td>OVR</td>\n",
       "      <td>NaN</td>\n",
       "      <td>NaN</td>\n",
       "      <td>NaN</td>\n",
       "      <td>NaN</td>\n",
       "    </tr>\n",
       "  </tbody>\n",
       "</table>\n",
       "<p>2 rows × 34 columns</p>\n",
       "</div>"
      ],
      "text/plain": [
       "  YearStart YearEnd LocationAbbr   LocationDesc DataSource    Topic  \\\n",
       "0      2016    2016           US  United States      BRFSS  Alcohol   \n",
       "1      2016    2016           AL        Alabama      BRFSS  Alcohol   \n",
       "\n",
       "                                            Question Response DataValueUnit  \\\n",
       "0  Binge drinking prevalence among adults aged >=...      NaN             %   \n",
       "1  Binge drinking prevalence among adults aged >=...      NaN             %   \n",
       "\n",
       "      DataValueType        ...        LocationID TopicID QuestionID  \\\n",
       "0  Crude Prevalence        ...                59     ALC     ALC2_2   \n",
       "1  Crude Prevalence        ...                01     ALC     ALC2_2   \n",
       "\n",
       "  DataValueTypeID StratificationCategoryID1 StratificationID1  \\\n",
       "0         CRDPREV                   OVERALL               OVR   \n",
       "1         CRDPREV                   OVERALL               OVR   \n",
       "\n",
       "  StratificationCategoryID2 StratificationID2 StratificationCategoryID3  \\\n",
       "0                       NaN               NaN                       NaN   \n",
       "1                       NaN               NaN                       NaN   \n",
       "\n",
       "  StratificationID3  \n",
       "0               NaN  \n",
       "1               NaN  \n",
       "\n",
       "[2 rows x 34 columns]"
      ]
     },
     "execution_count": 39,
     "metadata": {},
     "output_type": "execute_result"
    }
   ],
   "source": [
    "df_cdi[0:2]"
   ]
  },
  {
   "cell_type": "code",
   "execution_count": 40,
   "metadata": {},
   "outputs": [],
   "source": [
    "df_arthritis = df_cdi.loc[df_cdi.Topic == 'Arthritis']"
   ]
  },
  {
   "cell_type": "code",
   "execution_count": 41,
   "metadata": {},
   "outputs": [
    {
     "data": {
      "text/plain": [
       "(41765, 34)"
      ]
     },
     "execution_count": 41,
     "metadata": {},
     "output_type": "execute_result"
    }
   ],
   "source": [
    "df_arthritis.shape"
   ]
  },
  {
   "cell_type": "code",
   "execution_count": 42,
   "metadata": {},
   "outputs": [],
   "source": [
    "df_arthritis.to_csv('Chronic_Disease_Indicators_Arhtritis.csv')"
   ]
  },
  {
   "cell_type": "code",
   "execution_count": 43,
   "metadata": {},
   "outputs": [],
   "source": [
    "df_arthritis_read = pd.read_csv('Chronic_Disease_Indicators_Arhtritis.csv')"
   ]
  },
  {
   "cell_type": "code",
   "execution_count": 44,
   "metadata": {},
   "outputs": [],
   "source": [
    "df = df_arthritis_read.copy()"
   ]
  },
  {
   "cell_type": "code",
   "execution_count": 45,
   "metadata": {},
   "outputs": [
    {
     "data": {
      "text/plain": [
       "41765"
      ]
     },
     "execution_count": 45,
     "metadata": {},
     "output_type": "execute_result"
    }
   ],
   "source": [
    "len(df)"
   ]
  },
  {
   "cell_type": "code",
   "execution_count": 46,
   "metadata": {},
   "outputs": [
    {
     "data": {
      "text/plain": [
       "35"
      ]
     },
     "execution_count": 46,
     "metadata": {},
     "output_type": "execute_result"
    }
   ],
   "source": [
    "len(df.columns)"
   ]
  },
  {
   "cell_type": "code",
   "execution_count": 47,
   "metadata": {},
   "outputs": [
    {
     "data": {
      "text/plain": [
       "Index([u'Unnamed: 0', u'YearStart', u'YearEnd', u'LocationAbbr',\n",
       "       u'LocationDesc', u'DataSource', u'Topic', u'Question', u'Response',\n",
       "       u'DataValueUnit', u'DataValueType', u'DataValue', u'DataValueAlt',\n",
       "       u'DataValueFootnoteSymbol', u'DatavalueFootnote', u'LowConfidenceLimit',\n",
       "       u'HighConfidenceLimit', u'StratificationCategory1', u'Stratification1',\n",
       "       u'StratificationCategory2', u'Stratification2',\n",
       "       u'StratificationCategory3', u'Stratification3', u'GeoLocation',\n",
       "       u'ResponseID', u'LocationID', u'TopicID', u'QuestionID',\n",
       "       u'DataValueTypeID', u'StratificationCategoryID1', u'StratificationID1',\n",
       "       u'StratificationCategoryID2', u'StratificationID2',\n",
       "       u'StratificationCategoryID3', u'StratificationID3'],\n",
       "      dtype='object')"
      ]
     },
     "execution_count": 47,
     "metadata": {},
     "output_type": "execute_result"
    }
   ],
   "source": [
    "df.columns"
   ]
  },
  {
   "cell_type": "code",
   "execution_count": 48,
   "metadata": {},
   "outputs": [
    {
     "name": "stdout",
     "output_type": "stream",
     "text": [
      "<class 'pandas.core.frame.DataFrame'>\n",
      "RangeIndex: 41765 entries, 0 to 41764\n",
      "Data columns (total 35 columns):\n",
      "Unnamed: 0                   41765 non-null int64\n",
      "YearStart                    41765 non-null int64\n",
      "YearEnd                      41765 non-null int64\n",
      "LocationAbbr                 41765 non-null object\n",
      "LocationDesc                 41765 non-null object\n",
      "DataSource                   41765 non-null object\n",
      "Topic                        41765 non-null object\n",
      "Question                     41765 non-null object\n",
      "Response                     0 non-null float64\n",
      "DataValueUnit                41765 non-null object\n",
      "DataValueType                41765 non-null object\n",
      "DataValue                    28921 non-null float64\n",
      "DataValueAlt                 28921 non-null float64\n",
      "DataValueFootnoteSymbol      13119 non-null object\n",
      "DatavalueFootnote            13119 non-null object\n",
      "LowConfidenceLimit           28921 non-null float64\n",
      "HighConfidenceLimit          28921 non-null float64\n",
      "StratificationCategory1      41765 non-null object\n",
      "Stratification1              41765 non-null object\n",
      "StratificationCategory2      0 non-null float64\n",
      "Stratification2              0 non-null float64\n",
      "StratificationCategory3      0 non-null float64\n",
      "Stratification3              0 non-null float64\n",
      "GeoLocation                  41472 non-null object\n",
      "ResponseID                   0 non-null float64\n",
      "LocationID                   41765 non-null int64\n",
      "TopicID                      41765 non-null object\n",
      "QuestionID                   41765 non-null object\n",
      "DataValueTypeID              41765 non-null object\n",
      "StratificationCategoryID1    41765 non-null object\n",
      "StratificationID1            41765 non-null object\n",
      "StratificationCategoryID2    0 non-null float64\n",
      "StratificationID2            0 non-null float64\n",
      "StratificationCategoryID3    0 non-null float64\n",
      "StratificationID3            0 non-null float64\n",
      "dtypes: float64(14), int64(4), object(17)\n",
      "memory usage: 11.2+ MB\n"
     ]
    }
   ],
   "source": [
    "df.info()"
   ]
  },
  {
   "cell_type": "markdown",
   "metadata": {},
   "source": [
    "#df_sub = df[['YearStart', 'LocationAbbr', 'LocationDesc', 'Question', 'DataValueUnit', 'DataValueType', 'DataValue', 'DatavalueFootnote', 'StratificationCategory1', 'Stratification1', 'GeoLocation']]"
   ]
  },
  {
   "cell_type": "code",
   "execution_count": 49,
   "metadata": {},
   "outputs": [],
   "source": [
    "df_sub = df [['YearStart', 'LocationAbbr', 'LocationDesc', 'Question', 'DataValueUnit', 'DataValueType', 'DataValue', 'DatavalueFootnote', 'StratificationCategory1', 'Stratification1', 'GeoLocation']]"
   ]
  },
  {
   "cell_type": "code",
   "execution_count": 50,
   "metadata": {},
   "outputs": [
    {
     "data": {
      "text/plain": [
       "<bound method DataFrame.head of        YearStart LocationAbbr          LocationDesc  \\\n",
       "0           2016           ME                 Maine   \n",
       "1           2016           MD              Maryland   \n",
       "2           2016           MA         Massachusetts   \n",
       "3           2016           MI              Michigan   \n",
       "4           2016           US         United States   \n",
       "5           2016           AL               Alabama   \n",
       "6           2016           AK                Alaska   \n",
       "7           2016           AZ               Arizona   \n",
       "8           2016           AR              Arkansas   \n",
       "9           2016           CA            California   \n",
       "10          2016           CO              Colorado   \n",
       "11          2016           CT           Connecticut   \n",
       "12          2016           DE              Delaware   \n",
       "13          2016           DC  District of Columbia   \n",
       "14          2016           FL               Florida   \n",
       "15          2016           GA               Georgia   \n",
       "16          2016           HI                Hawaii   \n",
       "17          2016           ID                 Idaho   \n",
       "18          2016           IL              Illinois   \n",
       "19          2016           IN               Indiana   \n",
       "20          2016           IA                  Iowa   \n",
       "21          2016           KS                Kansas   \n",
       "22          2016           KY              Kentucky   \n",
       "23          2016           LA             Louisiana   \n",
       "24          2016           MN             Minnesota   \n",
       "25          2016           MS           Mississippi   \n",
       "26          2016           MO              Missouri   \n",
       "27          2016           MT               Montana   \n",
       "28          2016           NE              Nebraska   \n",
       "29          2016           NV                Nevada   \n",
       "...          ...          ...                   ...   \n",
       "41735       2011           NJ            New Jersey   \n",
       "41736       2011           NM            New Mexico   \n",
       "41737       2011           NY              New York   \n",
       "41738       2011           NC        North Carolina   \n",
       "41739       2011           ND          North Dakota   \n",
       "41740       2011           OH                  Ohio   \n",
       "41741       2011           OK              Oklahoma   \n",
       "41742       2011           OR                Oregon   \n",
       "41743       2011           PA          Pennsylvania   \n",
       "41744       2011           RI          Rhode Island   \n",
       "41745       2011           SC        South Carolina   \n",
       "41746       2011           SD          South Dakota   \n",
       "41747       2011           TN             Tennessee   \n",
       "41748       2011           TX                 Texas   \n",
       "41749       2011           UT                  Utah   \n",
       "41750       2011           VT               Vermont   \n",
       "41751       2011           VA              Virginia   \n",
       "41752       2011           WA            Washington   \n",
       "41753       2011           WV         West Virginia   \n",
       "41754       2011           WI             Wisconsin   \n",
       "41755       2011           WY               Wyoming   \n",
       "41756       2011           GU                  Guam   \n",
       "41757       2011           PR           Puerto Rico   \n",
       "41758       2011           VI        Virgin Islands   \n",
       "41759       2015           US         United States   \n",
       "41760       2015           US         United States   \n",
       "41761       2011           US         United States   \n",
       "41762       2011           US         United States   \n",
       "41763       2013           US         United States   \n",
       "41764       2013           US         United States   \n",
       "\n",
       "                                                Question DataValueUnit  \\\n",
       "0                Arthritis among adults aged >= 18 years             %   \n",
       "1                Arthritis among adults aged >= 18 years             %   \n",
       "2                Arthritis among adults aged >= 18 years             %   \n",
       "3                Arthritis among adults aged >= 18 years             %   \n",
       "4                Arthritis among adults aged >= 18 years             %   \n",
       "5                Arthritis among adults aged >= 18 years             %   \n",
       "6                Arthritis among adults aged >= 18 years             %   \n",
       "7                Arthritis among adults aged >= 18 years             %   \n",
       "8                Arthritis among adults aged >= 18 years             %   \n",
       "9                Arthritis among adults aged >= 18 years             %   \n",
       "10               Arthritis among adults aged >= 18 years             %   \n",
       "11               Arthritis among adults aged >= 18 years             %   \n",
       "12               Arthritis among adults aged >= 18 years             %   \n",
       "13               Arthritis among adults aged >= 18 years             %   \n",
       "14               Arthritis among adults aged >= 18 years             %   \n",
       "15               Arthritis among adults aged >= 18 years             %   \n",
       "16               Arthritis among adults aged >= 18 years             %   \n",
       "17               Arthritis among adults aged >= 18 years             %   \n",
       "18               Arthritis among adults aged >= 18 years             %   \n",
       "19               Arthritis among adults aged >= 18 years             %   \n",
       "20               Arthritis among adults aged >= 18 years             %   \n",
       "21               Arthritis among adults aged >= 18 years             %   \n",
       "22               Arthritis among adults aged >= 18 years             %   \n",
       "23               Arthritis among adults aged >= 18 years             %   \n",
       "24               Arthritis among adults aged >= 18 years             %   \n",
       "25               Arthritis among adults aged >= 18 years             %   \n",
       "26               Arthritis among adults aged >= 18 years             %   \n",
       "27               Arthritis among adults aged >= 18 years             %   \n",
       "28               Arthritis among adults aged >= 18 years             %   \n",
       "29               Arthritis among adults aged >= 18 years             %   \n",
       "...                                                  ...           ...   \n",
       "41735  Severe joint pain due to arthritis among adult...             %   \n",
       "41736  Severe joint pain due to arthritis among adult...             %   \n",
       "41737  Severe joint pain due to arthritis among adult...             %   \n",
       "41738  Severe joint pain due to arthritis among adult...             %   \n",
       "41739  Severe joint pain due to arthritis among adult...             %   \n",
       "41740  Severe joint pain due to arthritis among adult...             %   \n",
       "41741  Severe joint pain due to arthritis among adult...             %   \n",
       "41742  Severe joint pain due to arthritis among adult...             %   \n",
       "41743  Severe joint pain due to arthritis among adult...             %   \n",
       "41744  Severe joint pain due to arthritis among adult...             %   \n",
       "41745  Severe joint pain due to arthritis among adult...             %   \n",
       "41746  Severe joint pain due to arthritis among adult...             %   \n",
       "41747  Severe joint pain due to arthritis among adult...             %   \n",
       "41748  Severe joint pain due to arthritis among adult...             %   \n",
       "41749  Severe joint pain due to arthritis among adult...             %   \n",
       "41750  Severe joint pain due to arthritis among adult...             %   \n",
       "41751  Severe joint pain due to arthritis among adult...             %   \n",
       "41752  Severe joint pain due to arthritis among adult...             %   \n",
       "41753  Severe joint pain due to arthritis among adult...             %   \n",
       "41754  Severe joint pain due to arthritis among adult...             %   \n",
       "41755  Severe joint pain due to arthritis among adult...             %   \n",
       "41756  Severe joint pain due to arthritis among adult...             %   \n",
       "41757  Severe joint pain due to arthritis among adult...             %   \n",
       "41758  Severe joint pain due to arthritis among adult...             %   \n",
       "41759  Adults aged >= 18 years with arthritis who hav...             %   \n",
       "41760  Adults aged >= 18 years with arthritis who hav...             %   \n",
       "41761  Adults aged >= 18 years with arthritis who hav...             %   \n",
       "41762  Adults aged >= 18 years with arthritis who hav...             %   \n",
       "41763  Adults aged >= 18 years with arthritis who hav...             %   \n",
       "41764  Adults aged >= 18 years with arthritis who hav...             %   \n",
       "\n",
       "                 DataValueType  DataValue  \\\n",
       "0             Crude Prevalence       33.8   \n",
       "1             Crude Prevalence       24.5   \n",
       "2             Crude Prevalence       25.2   \n",
       "3             Crude Prevalence       32.0   \n",
       "4             Crude Prevalence       25.8   \n",
       "5             Crude Prevalence       33.5   \n",
       "6             Crude Prevalence       23.9   \n",
       "7             Crude Prevalence       26.0   \n",
       "8             Crude Prevalence       33.4   \n",
       "9             Crude Prevalence       18.9   \n",
       "10            Crude Prevalence       23.0   \n",
       "11            Crude Prevalence       25.1   \n",
       "12            Crude Prevalence       26.7   \n",
       "13            Crude Prevalence       16.9   \n",
       "14            Crude Prevalence       24.8   \n",
       "15            Crude Prevalence       25.4   \n",
       "16            Crude Prevalence       21.9   \n",
       "17            Crude Prevalence       24.0   \n",
       "18            Crude Prevalence       24.8   \n",
       "19            Crude Prevalence       27.8   \n",
       "20            Crude Prevalence       25.5   \n",
       "21            Crude Prevalence       25.0   \n",
       "22            Crude Prevalence       33.5   \n",
       "23            Crude Prevalence       27.8   \n",
       "24            Crude Prevalence       22.4   \n",
       "25            Crude Prevalence       31.3   \n",
       "26            Crude Prevalence       30.6   \n",
       "27            Crude Prevalence       27.6   \n",
       "28            Crude Prevalence       24.6   \n",
       "29            Crude Prevalence       23.7   \n",
       "...                        ...        ...   \n",
       "41735  Age-adjusted Prevalence        NaN   \n",
       "41736  Age-adjusted Prevalence        NaN   \n",
       "41737  Age-adjusted Prevalence        NaN   \n",
       "41738  Age-adjusted Prevalence        NaN   \n",
       "41739  Age-adjusted Prevalence        NaN   \n",
       "41740  Age-adjusted Prevalence       53.2   \n",
       "41741  Age-adjusted Prevalence       34.4   \n",
       "41742  Age-adjusted Prevalence       37.9   \n",
       "41743  Age-adjusted Prevalence        NaN   \n",
       "41744  Age-adjusted Prevalence        NaN   \n",
       "41745  Age-adjusted Prevalence       57.8   \n",
       "41746  Age-adjusted Prevalence        NaN   \n",
       "41747  Age-adjusted Prevalence        NaN   \n",
       "41748  Age-adjusted Prevalence        NaN   \n",
       "41749  Age-adjusted Prevalence        NaN   \n",
       "41750  Age-adjusted Prevalence        NaN   \n",
       "41751  Age-adjusted Prevalence        NaN   \n",
       "41752  Age-adjusted Prevalence       32.3   \n",
       "41753  Age-adjusted Prevalence        NaN   \n",
       "41754  Age-adjusted Prevalence        NaN   \n",
       "41755  Age-adjusted Prevalence        NaN   \n",
       "41756  Age-adjusted Prevalence        NaN   \n",
       "41757  Age-adjusted Prevalence        NaN   \n",
       "41758  Age-adjusted Prevalence        NaN   \n",
       "41759  Age-adjusted Prevalence        NaN   \n",
       "41760         Crude Prevalence        NaN   \n",
       "41761  Age-adjusted Prevalence        NaN   \n",
       "41762         Crude Prevalence        NaN   \n",
       "41763  Age-adjusted Prevalence        NaN   \n",
       "41764         Crude Prevalence        NaN   \n",
       "\n",
       "                                       DatavalueFootnote  \\\n",
       "0                                                    NaN   \n",
       "1                                                    NaN   \n",
       "2                                                    NaN   \n",
       "3                                                    NaN   \n",
       "4                              50 States + DC: US Median   \n",
       "5                                                    NaN   \n",
       "6                                                    NaN   \n",
       "7                                                    NaN   \n",
       "8                                                    NaN   \n",
       "9                                                    NaN   \n",
       "10                                                   NaN   \n",
       "11                                                   NaN   \n",
       "12                                                   NaN   \n",
       "13                                                   NaN   \n",
       "14                                                   NaN   \n",
       "15                                                   NaN   \n",
       "16                                                   NaN   \n",
       "17                                                   NaN   \n",
       "18                                                   NaN   \n",
       "19                                                   NaN   \n",
       "20                                                   NaN   \n",
       "21                                                   NaN   \n",
       "22                                                   NaN   \n",
       "23                                                   NaN   \n",
       "24                                                   NaN   \n",
       "25                                                   NaN   \n",
       "26                                                   NaN   \n",
       "27                                                   NaN   \n",
       "28                                                   NaN   \n",
       "29                                                   NaN   \n",
       "...                                                  ...   \n",
       "41735  Sample size of denominator and/or age group fo...   \n",
       "41736  Sample size of denominator and/or age group fo...   \n",
       "41737  Sample size of denominator and/or age group fo...   \n",
       "41738  Sample size of denominator and/or age group fo...   \n",
       "41739  Sample size of denominator and/or age group fo...   \n",
       "41740                                                NaN   \n",
       "41741                                                NaN   \n",
       "41742                                                NaN   \n",
       "41743  Sample size of denominator and/or age group fo...   \n",
       "41744  Sample size of denominator and/or age group fo...   \n",
       "41745                                                NaN   \n",
       "41746  Sample size of denominator and/or age group fo...   \n",
       "41747  Sample size of denominator and/or age group fo...   \n",
       "41748  Sample size of denominator and/or age group fo...   \n",
       "41749  Sample size of denominator and/or age group fo...   \n",
       "41750  Sample size of denominator and/or age group fo...   \n",
       "41751  Sample size of denominator and/or age group fo...   \n",
       "41752                                                NaN   \n",
       "41753  Sample size of denominator and/or age group fo...   \n",
       "41754  Sample size of denominator and/or age group fo...   \n",
       "41755  Sample size of denominator and/or age group fo...   \n",
       "41756  Sample size of denominator and/or age group fo...   \n",
       "41757                                  No data available   \n",
       "41758                                  No data available   \n",
       "41759  US estimate/number is based on fewer than 50 s...   \n",
       "41760  US estimate/number is based on fewer than 50 s...   \n",
       "41761  US estimate/number is based on fewer than 50 s...   \n",
       "41762  US estimate/number is based on fewer than 50 s...   \n",
       "41763  US estimate/number is based on fewer than 50 s...   \n",
       "41764  US estimate/number is based on fewer than 50 s...   \n",
       "\n",
       "      StratificationCategory1            Stratification1  \\\n",
       "0                     Overall                    Overall   \n",
       "1                     Overall                    Overall   \n",
       "2                     Overall                    Overall   \n",
       "3                     Overall                    Overall   \n",
       "4                     Overall                    Overall   \n",
       "5                     Overall                    Overall   \n",
       "6                     Overall                    Overall   \n",
       "7                     Overall                    Overall   \n",
       "8                     Overall                    Overall   \n",
       "9                     Overall                    Overall   \n",
       "10                    Overall                    Overall   \n",
       "11                    Overall                    Overall   \n",
       "12                    Overall                    Overall   \n",
       "13                    Overall                    Overall   \n",
       "14                    Overall                    Overall   \n",
       "15                    Overall                    Overall   \n",
       "16                    Overall                    Overall   \n",
       "17                    Overall                    Overall   \n",
       "18                    Overall                    Overall   \n",
       "19                    Overall                    Overall   \n",
       "20                    Overall                    Overall   \n",
       "21                    Overall                    Overall   \n",
       "22                    Overall                    Overall   \n",
       "23                    Overall                    Overall   \n",
       "24                    Overall                    Overall   \n",
       "25                    Overall                    Overall   \n",
       "26                    Overall                    Overall   \n",
       "27                    Overall                    Overall   \n",
       "28                    Overall                    Overall   \n",
       "29                    Overall                    Overall   \n",
       "...                       ...                        ...   \n",
       "41735          Race/Ethnicity  Multiracial, non-Hispanic   \n",
       "41736          Race/Ethnicity  Multiracial, non-Hispanic   \n",
       "41737          Race/Ethnicity  Multiracial, non-Hispanic   \n",
       "41738          Race/Ethnicity  Multiracial, non-Hispanic   \n",
       "41739          Race/Ethnicity  Multiracial, non-Hispanic   \n",
       "41740          Race/Ethnicity  Multiracial, non-Hispanic   \n",
       "41741          Race/Ethnicity  Multiracial, non-Hispanic   \n",
       "41742          Race/Ethnicity  Multiracial, non-Hispanic   \n",
       "41743          Race/Ethnicity  Multiracial, non-Hispanic   \n",
       "41744          Race/Ethnicity  Multiracial, non-Hispanic   \n",
       "41745          Race/Ethnicity  Multiracial, non-Hispanic   \n",
       "41746          Race/Ethnicity  Multiracial, non-Hispanic   \n",
       "41747          Race/Ethnicity  Multiracial, non-Hispanic   \n",
       "41748          Race/Ethnicity  Multiracial, non-Hispanic   \n",
       "41749          Race/Ethnicity  Multiracial, non-Hispanic   \n",
       "41750          Race/Ethnicity  Multiracial, non-Hispanic   \n",
       "41751          Race/Ethnicity  Multiracial, non-Hispanic   \n",
       "41752          Race/Ethnicity  Multiracial, non-Hispanic   \n",
       "41753          Race/Ethnicity  Multiracial, non-Hispanic   \n",
       "41754          Race/Ethnicity  Multiracial, non-Hispanic   \n",
       "41755          Race/Ethnicity  Multiracial, non-Hispanic   \n",
       "41756          Race/Ethnicity  Multiracial, non-Hispanic   \n",
       "41757          Race/Ethnicity  Multiracial, non-Hispanic   \n",
       "41758          Race/Ethnicity  Multiracial, non-Hispanic   \n",
       "41759                 Overall                    Overall   \n",
       "41760                 Overall                    Overall   \n",
       "41761                 Overall                    Overall   \n",
       "41762                 Overall                    Overall   \n",
       "41763                 Overall                    Overall   \n",
       "41764                 Overall                    Overall   \n",
       "\n",
       "                                     GeoLocation  \n",
       "0       (45.254228894000505, -68.98503133599962)  \n",
       "1        (39.29058096400047, -76.60926011099963)  \n",
       "2        (42.27687047000046, -72.08269067499964)  \n",
       "3         (44.6613195430005, -84.71439026999968)  \n",
       "4                                            NaN  \n",
       "5        (32.84057112200048, -86.63186076199969)  \n",
       "6       (64.84507995700051, -147.72205903599973)  \n",
       "7      (34.865970280000454, -111.76381127699972)  \n",
       "8        (34.74865012400045, -92.27449074299966)  \n",
       "9       (37.63864012300047, -120.99999953799971)  \n",
       "10     (38.843840757000464, -106.13361092099967)  \n",
       "11       (41.56266102000046, -72.64984095199964)  \n",
       "12      (39.008830667000495, -75.57774116799965)  \n",
       "13                       (38.907192, -77.036871)  \n",
       "14      (28.932040377000476, -81.92896053899966)  \n",
       "15       (32.83968109300048, -83.62758034599966)  \n",
       "16     (21.304850435000446, -157.85774940299973)  \n",
       "17      (43.682630005000476, -114.3637300419997)  \n",
       "18       (40.48501028300046, -88.99771017799969)  \n",
       "19      (39.766910452000445, -86.14996019399968)  \n",
       "20       (42.46940091300047, -93.81649055599968)  \n",
       "21       (38.34774030000045, -98.20078122699965)  \n",
       "22      (37.645970271000465, -84.77497104799966)  \n",
       "23       (31.31266064400046, -92.44568007099969)  \n",
       "24       (46.35564873600049, -94.79420050299967)  \n",
       "25      (32.745510099000455, -89.53803082499968)  \n",
       "26      (38.635790776000476, -92.56630005299968)  \n",
       "27      (47.06652897200047, -109.42442064499971)  \n",
       "28        (41.6410409880005, -99.36572062299967)  \n",
       "29     (39.493240390000494, -117.07184056399967)  \n",
       "...                                          ...  \n",
       "41735    (40.13057004800049, -74.27369128799967)  \n",
       "41736   (34.52088095200048, -106.24058098499967)  \n",
       "41737    (42.82700103200045, -75.54397042699964)  \n",
       "41738   (35.466220975000454, -79.15925046299964)  \n",
       "41739   (47.47531977900047, -100.11842104899966)  \n",
       "41740    (40.06021014100048, -82.40426005599966)  \n",
       "41741    (35.47203135600046, -97.52107021399968)  \n",
       "41742   (44.56744942400047, -120.15503132599969)  \n",
       "41743    (40.79373015200048, -77.86070029399963)  \n",
       "41744    (41.70828019300046, -71.52247031399963)  \n",
       "41745   (33.998821303000454, -81.04537120699968)  \n",
       "41746   (44.353130053000484, -100.3735306369997)  \n",
       "41747    (35.68094058000048, -85.77449091399967)  \n",
       "41748   (31.827240407000488, -99.42677020599967)  \n",
       "41749  (39.360700171000474, -111.58713063499971)  \n",
       "41750    (43.62538123900049, -72.51764079099962)  \n",
       "41751    (37.54268067400045, -78.45789046299967)  \n",
       "41752   (47.52227862900048, -120.47001078999972)  \n",
       "41753    (38.66551020200046, -80.71264013499967)  \n",
       "41754    (44.39319117400049, -89.81637074199966)  \n",
       "41755   (43.23554134300048, -108.10983035299967)  \n",
       "41756                    (13.444304, 144.793731)  \n",
       "41757                    (18.220833, -66.590149)  \n",
       "41758                    (18.335765, -64.896335)  \n",
       "41759                                        NaN  \n",
       "41760                                        NaN  \n",
       "41761                                        NaN  \n",
       "41762                                        NaN  \n",
       "41763                                        NaN  \n",
       "41764                                        NaN  \n",
       "\n",
       "[41765 rows x 11 columns]>"
      ]
     },
     "execution_count": 50,
     "metadata": {},
     "output_type": "execute_result"
    }
   ],
   "source": [
    "df_sub.head"
   ]
  },
  {
   "cell_type": "code",
   "execution_count": 51,
   "metadata": {},
   "outputs": [],
   "source": [
    "df_sub = df_sub.fillna('')"
   ]
  },
  {
   "cell_type": "code",
   "execution_count": 52,
   "metadata": {},
   "outputs": [
    {
     "name": "stdout",
     "output_type": "stream",
     "text": [
      "<class 'pandas.core.frame.DataFrame'>\n",
      "RangeIndex: 41765 entries, 0 to 41764\n",
      "Data columns (total 11 columns):\n",
      "YearStart                  41765 non-null int64\n",
      "LocationAbbr               41765 non-null object\n",
      "LocationDesc               41765 non-null object\n",
      "Question                   41765 non-null object\n",
      "DataValueUnit              41765 non-null object\n",
      "DataValueType              41765 non-null object\n",
      "DataValue                  41765 non-null object\n",
      "DatavalueFootnote          41765 non-null object\n",
      "StratificationCategory1    41765 non-null object\n",
      "Stratification1            41765 non-null object\n",
      "GeoLocation                41765 non-null object\n",
      "dtypes: int64(1), object(10)\n",
      "memory usage: 3.5+ MB\n"
     ]
    }
   ],
   "source": [
    "df_sub.info()"
   ]
  },
  {
   "cell_type": "code",
   "execution_count": 53,
   "metadata": {},
   "outputs": [
    {
     "data": {
      "text/plain": [
       "YearStart                   int64\n",
       "LocationAbbr               object\n",
       "LocationDesc               object\n",
       "Question                   object\n",
       "DataValueUnit              object\n",
       "DataValueType              object\n",
       "DataValue                  object\n",
       "DatavalueFootnote          object\n",
       "StratificationCategory1    object\n",
       "Stratification1            object\n",
       "GeoLocation                object\n",
       "dtype: object"
      ]
     },
     "execution_count": 53,
     "metadata": {},
     "output_type": "execute_result"
    }
   ],
   "source": [
    "df_sub.dtypes"
   ]
  },
  {
   "cell_type": "code",
   "execution_count": 66,
   "metadata": {},
   "outputs": [],
   "source": [
    "# df_sub.DataValue = df_sub.DataValue.astype(float).fillna(0.0)"
   ]
  },
  {
   "cell_type": "code",
   "execution_count": 65,
   "metadata": {},
   "outputs": [],
   "source": [
    "df_sub['DataValue'] = df_sub['DataValue'].apply(pd.to_numeric)"
   ]
  },
  {
   "cell_type": "code",
   "execution_count": 67,
   "metadata": {},
   "outputs": [],
   "source": [
    "# df_sub['DataValue'] = df_sub['DataValue'].convert_objects(convert_numeric=True)"
   ]
  },
  {
   "cell_type": "code",
   "execution_count": 68,
   "metadata": {},
   "outputs": [
    {
     "data": {
      "text/plain": [
       "YearStart                    int64\n",
       "LocationAbbr                object\n",
       "LocationDesc                object\n",
       "Question                    object\n",
       "DataValueUnit               object\n",
       "DataValueType               object\n",
       "DataValue                  float64\n",
       "DatavalueFootnote           object\n",
       "StratificationCategory1     object\n",
       "Stratification1             object\n",
       "GeoLocation                 object\n",
       "dtype: object"
      ]
     },
     "execution_count": 68,
     "metadata": {},
     "output_type": "execute_result"
    }
   ],
   "source": [
    "df_sub.dtypes"
   ]
  },
  {
   "cell_type": "code",
   "execution_count": 69,
   "metadata": {},
   "outputs": [
    {
     "data": {
      "text/html": [
       "<div>\n",
       "<style scoped>\n",
       "    .dataframe tbody tr th:only-of-type {\n",
       "        vertical-align: middle;\n",
       "    }\n",
       "\n",
       "    .dataframe tbody tr th {\n",
       "        vertical-align: top;\n",
       "    }\n",
       "\n",
       "    .dataframe thead th {\n",
       "        text-align: right;\n",
       "    }\n",
       "</style>\n",
       "<table border=\"1\" class=\"dataframe\">\n",
       "  <thead>\n",
       "    <tr style=\"text-align: right;\">\n",
       "      <th></th>\n",
       "      <th>YearStart</th>\n",
       "      <th>DataValue</th>\n",
       "    </tr>\n",
       "  </thead>\n",
       "  <tbody>\n",
       "    <tr>\n",
       "      <th>count</th>\n",
       "      <td>41765.000000</td>\n",
       "      <td>28921.000000</td>\n",
       "    </tr>\n",
       "    <tr>\n",
       "      <th>mean</th>\n",
       "      <td>2013.374716</td>\n",
       "      <td>36.630016</td>\n",
       "    </tr>\n",
       "    <tr>\n",
       "      <th>std</th>\n",
       "      <td>1.703361</td>\n",
       "      <td>12.577648</td>\n",
       "    </tr>\n",
       "    <tr>\n",
       "      <th>min</th>\n",
       "      <td>2011.000000</td>\n",
       "      <td>3.000000</td>\n",
       "    </tr>\n",
       "    <tr>\n",
       "      <th>25%</th>\n",
       "      <td>2012.000000</td>\n",
       "      <td>27.500000</td>\n",
       "    </tr>\n",
       "    <tr>\n",
       "      <th>50%</th>\n",
       "      <td>2013.000000</td>\n",
       "      <td>34.800000</td>\n",
       "    </tr>\n",
       "    <tr>\n",
       "      <th>75%</th>\n",
       "      <td>2015.000000</td>\n",
       "      <td>45.000000</td>\n",
       "    </tr>\n",
       "    <tr>\n",
       "      <th>max</th>\n",
       "      <td>2016.000000</td>\n",
       "      <td>91.000000</td>\n",
       "    </tr>\n",
       "  </tbody>\n",
       "</table>\n",
       "</div>"
      ],
      "text/plain": [
       "          YearStart     DataValue\n",
       "count  41765.000000  28921.000000\n",
       "mean    2013.374716     36.630016\n",
       "std        1.703361     12.577648\n",
       "min     2011.000000      3.000000\n",
       "25%     2012.000000     27.500000\n",
       "50%     2013.000000     34.800000\n",
       "75%     2015.000000     45.000000\n",
       "max     2016.000000     91.000000"
      ]
     },
     "execution_count": 69,
     "metadata": {},
     "output_type": "execute_result"
    }
   ],
   "source": [
    "df_sub.describe()"
   ]
  },
  {
   "cell_type": "code",
   "execution_count": 70,
   "metadata": {},
   "outputs": [
    {
     "data": {
      "text/html": [
       "<div>\n",
       "<style scoped>\n",
       "    .dataframe tbody tr th:only-of-type {\n",
       "        vertical-align: middle;\n",
       "    }\n",
       "\n",
       "    .dataframe tbody tr th {\n",
       "        vertical-align: top;\n",
       "    }\n",
       "\n",
       "    .dataframe thead th {\n",
       "        text-align: right;\n",
       "    }\n",
       "</style>\n",
       "<table border=\"1\" class=\"dataframe\">\n",
       "  <thead>\n",
       "    <tr style=\"text-align: right;\">\n",
       "      <th></th>\n",
       "      <th>LocationDesc</th>\n",
       "      <th>StratificationCategory1</th>\n",
       "    </tr>\n",
       "  </thead>\n",
       "  <tbody>\n",
       "    <tr>\n",
       "      <th>count</th>\n",
       "      <td>41765</td>\n",
       "      <td>41765</td>\n",
       "    </tr>\n",
       "    <tr>\n",
       "      <th>unique</th>\n",
       "      <td>55</td>\n",
       "      <td>3</td>\n",
       "    </tr>\n",
       "    <tr>\n",
       "      <th>top</th>\n",
       "      <td>Utah</td>\n",
       "      <td>Race/Ethnicity</td>\n",
       "    </tr>\n",
       "    <tr>\n",
       "      <th>freq</th>\n",
       "      <td>768</td>\n",
       "      <td>25925</td>\n",
       "    </tr>\n",
       "  </tbody>\n",
       "</table>\n",
       "</div>"
      ],
      "text/plain": [
       "       LocationDesc StratificationCategory1\n",
       "count         41765                   41765\n",
       "unique           55                       3\n",
       "top            Utah          Race/Ethnicity\n",
       "freq            768                   25925"
      ]
     },
     "execution_count": 70,
     "metadata": {},
     "output_type": "execute_result"
    }
   ],
   "source": [
    "df_sub[['LocationDesc', 'StratificationCategory1']].describe()"
   ]
  },
  {
   "cell_type": "markdown",
   "metadata": {},
   "source": [
    "### 1. What is the overall incidence of arthritis in U.S. per year ?"
   ]
  },
  {
   "cell_type": "code",
   "execution_count": 72,
   "metadata": {},
   "outputs": [
    {
     "data": {
      "text/plain": [
       "array(['Arthritis among adults aged >= 18 years',\n",
       "       'Arthritis among adults aged >= 18 years who are obese',\n",
       "       'Arthritis among adults aged >= 18 years who have diabetes',\n",
       "       'Arthritis among adults aged >= 18 years who have heart disease',\n",
       "       'Physical inactivity among adults aged >= 18 years with arthritis',\n",
       "       'Fair or poor health among adults aged >= 18 years with arthritis',\n",
       "       'Adults aged >= 18 years with arthritis who have taken a class to learn how to manage arthritis symptoms',\n",
       "       'Activity limitation due to arthritis among adults aged >= 18 years who have doctor-diagnosed arthritis',\n",
       "       'Work limitation due to arthritis among adults aged 18-64 years who have doctor-diagnosed arthritis',\n",
       "       'Severe joint pain due to arthritis among adults aged >= 18 years who have doctor-diagnosed arthritis'],\n",
       "      dtype=object)"
      ]
     },
     "execution_count": 72,
     "metadata": {},
     "output_type": "execute_result"
    }
   ],
   "source": [
    "pd.unique(df_sub['Question'])"
   ]
  },
  {
   "cell_type": "code",
   "execution_count": 73,
   "metadata": {},
   "outputs": [
    {
     "data": {
      "text/plain": [
       "Arthritis among adults aged >= 18 years who are obese                                                      5225\n",
       "Fair or poor health among adults aged >= 18 years with arthritis                                           5220\n",
       "Arthritis among adults aged >= 18 years who have heart disease                                             5220\n",
       "Arthritis among adults aged >= 18 years                                                                    5220\n",
       "Arthritis among adults aged >= 18 years who have diabetes                                                  5220\n",
       "Physical inactivity among adults aged >= 18 years with arthritis                                           5220\n",
       "Work limitation due to arthritis among adults aged 18-64 years who have doctor-diagnosed arthritis         2610\n",
       "Severe joint pain due to arthritis among adults aged >= 18 years who have doctor-diagnosed arthritis       2610\n",
       "Activity limitation due to arthritis among adults aged >= 18 years who have doctor-diagnosed arthritis     2610\n",
       "Adults aged >= 18 years with arthritis who have taken a class to learn how to manage arthritis symptoms    2610\n",
       "Name: Question, dtype: int64"
      ]
     },
     "execution_count": 73,
     "metadata": {},
     "output_type": "execute_result"
    }
   ],
   "source": [
    "df_sub['Question'].value_counts()"
   ]
  },
  {
   "cell_type": "code",
   "execution_count": 75,
   "metadata": {},
   "outputs": [],
   "source": [
    "annual_incidence = df_sub[(df_sub.Question == 'Arthritis among adults aged >= 18 years')&(df_sub.LocationAbbr=='US')&(df_sub.StratificationCategory1 == 'Overall')&(df_sub.DataValueType=='Crude Prevalence')]"
   ]
  },
  {
   "cell_type": "code",
   "execution_count": 76,
   "metadata": {},
   "outputs": [
    {
     "data": {
      "text/html": [
       "<div>\n",
       "<style scoped>\n",
       "    .dataframe tbody tr th:only-of-type {\n",
       "        vertical-align: middle;\n",
       "    }\n",
       "\n",
       "    .dataframe tbody tr th {\n",
       "        vertical-align: top;\n",
       "    }\n",
       "\n",
       "    .dataframe thead th {\n",
       "        text-align: right;\n",
       "    }\n",
       "</style>\n",
       "<table border=\"1\" class=\"dataframe\">\n",
       "  <thead>\n",
       "    <tr style=\"text-align: right;\">\n",
       "      <th></th>\n",
       "      <th>YearStart</th>\n",
       "      <th>LocationAbbr</th>\n",
       "      <th>LocationDesc</th>\n",
       "      <th>Question</th>\n",
       "      <th>DataValueUnit</th>\n",
       "      <th>DataValueType</th>\n",
       "      <th>DataValue</th>\n",
       "      <th>DatavalueFootnote</th>\n",
       "      <th>StratificationCategory1</th>\n",
       "      <th>Stratification1</th>\n",
       "      <th>GeoLocation</th>\n",
       "    </tr>\n",
       "  </thead>\n",
       "  <tbody>\n",
       "    <tr>\n",
       "      <th>4</th>\n",
       "      <td>2016</td>\n",
       "      <td>US</td>\n",
       "      <td>United States</td>\n",
       "      <td>Arthritis among adults aged &gt;= 18 years</td>\n",
       "      <td>%</td>\n",
       "      <td>Crude Prevalence</td>\n",
       "      <td>25.8</td>\n",
       "      <td>50 States + DC: US Median</td>\n",
       "      <td>Overall</td>\n",
       "      <td>Overall</td>\n",
       "      <td></td>\n",
       "    </tr>\n",
       "    <tr>\n",
       "      <th>6027</th>\n",
       "      <td>2015</td>\n",
       "      <td>US</td>\n",
       "      <td>United States</td>\n",
       "      <td>Arthritis among adults aged &gt;= 18 years</td>\n",
       "      <td>%</td>\n",
       "      <td>Crude Prevalence</td>\n",
       "      <td>25.3</td>\n",
       "      <td>50 States + DC: US Median</td>\n",
       "      <td>Overall</td>\n",
       "      <td>Overall</td>\n",
       "      <td></td>\n",
       "    </tr>\n",
       "    <tr>\n",
       "      <th>12109</th>\n",
       "      <td>2012</td>\n",
       "      <td>US</td>\n",
       "      <td>United States</td>\n",
       "      <td>Arthritis among adults aged &gt;= 18 years</td>\n",
       "      <td>%</td>\n",
       "      <td>Crude Prevalence</td>\n",
       "      <td>25.7</td>\n",
       "      <td>50 States + DC: US Median</td>\n",
       "      <td>Overall</td>\n",
       "      <td>Overall</td>\n",
       "      <td></td>\n",
       "    </tr>\n",
       "    <tr>\n",
       "      <th>17330</th>\n",
       "      <td>2011</td>\n",
       "      <td>US</td>\n",
       "      <td>United States</td>\n",
       "      <td>Arthritis among adults aged &gt;= 18 years</td>\n",
       "      <td>%</td>\n",
       "      <td>Crude Prevalence</td>\n",
       "      <td>24.4</td>\n",
       "      <td>50 States + DC: US Median</td>\n",
       "      <td>Overall</td>\n",
       "      <td>Overall</td>\n",
       "      <td></td>\n",
       "    </tr>\n",
       "    <tr>\n",
       "      <th>23418</th>\n",
       "      <td>2014</td>\n",
       "      <td>US</td>\n",
       "      <td>United States</td>\n",
       "      <td>Arthritis among adults aged &gt;= 18 years</td>\n",
       "      <td>%</td>\n",
       "      <td>Crude Prevalence</td>\n",
       "      <td>26.0</td>\n",
       "      <td>50 States + DC: US Median</td>\n",
       "      <td>Overall</td>\n",
       "      <td>Overall</td>\n",
       "      <td></td>\n",
       "    </tr>\n",
       "    <tr>\n",
       "      <th>28638</th>\n",
       "      <td>2013</td>\n",
       "      <td>US</td>\n",
       "      <td>United States</td>\n",
       "      <td>Arthritis among adults aged &gt;= 18 years</td>\n",
       "      <td>%</td>\n",
       "      <td>Crude Prevalence</td>\n",
       "      <td>25.3</td>\n",
       "      <td>50 States + DC: US Median</td>\n",
       "      <td>Overall</td>\n",
       "      <td>Overall</td>\n",
       "      <td></td>\n",
       "    </tr>\n",
       "  </tbody>\n",
       "</table>\n",
       "</div>"
      ],
      "text/plain": [
       "       YearStart LocationAbbr   LocationDesc  \\\n",
       "4           2016           US  United States   \n",
       "6027        2015           US  United States   \n",
       "12109       2012           US  United States   \n",
       "17330       2011           US  United States   \n",
       "23418       2014           US  United States   \n",
       "28638       2013           US  United States   \n",
       "\n",
       "                                      Question DataValueUnit  \\\n",
       "4      Arthritis among adults aged >= 18 years             %   \n",
       "6027   Arthritis among adults aged >= 18 years             %   \n",
       "12109  Arthritis among adults aged >= 18 years             %   \n",
       "17330  Arthritis among adults aged >= 18 years             %   \n",
       "23418  Arthritis among adults aged >= 18 years             %   \n",
       "28638  Arthritis among adults aged >= 18 years             %   \n",
       "\n",
       "          DataValueType  DataValue          DatavalueFootnote  \\\n",
       "4      Crude Prevalence       25.8  50 States + DC: US Median   \n",
       "6027   Crude Prevalence       25.3  50 States + DC: US Median   \n",
       "12109  Crude Prevalence       25.7  50 States + DC: US Median   \n",
       "17330  Crude Prevalence       24.4  50 States + DC: US Median   \n",
       "23418  Crude Prevalence       26.0  50 States + DC: US Median   \n",
       "28638  Crude Prevalence       25.3  50 States + DC: US Median   \n",
       "\n",
       "      StratificationCategory1 Stratification1 GeoLocation  \n",
       "4                     Overall         Overall              \n",
       "6027                  Overall         Overall              \n",
       "12109                 Overall         Overall              \n",
       "17330                 Overall         Overall              \n",
       "23418                 Overall         Overall              \n",
       "28638                 Overall         Overall              "
      ]
     },
     "execution_count": 76,
     "metadata": {},
     "output_type": "execute_result"
    }
   ],
   "source": [
    "annual_incidence"
   ]
  },
  {
   "cell_type": "code",
   "execution_count": null,
   "metadata": {},
   "outputs": [],
   "source": []
  },
  {
   "cell_type": "code",
   "execution_count": null,
   "metadata": {},
   "outputs": [],
   "source": []
  },
  {
   "cell_type": "markdown",
   "metadata": {},
   "source": [
    "### 2. How does the incidence of arthritis vary by race/ethnicity or gender ?"
   ]
  },
  {
   "cell_type": "code",
   "execution_count": 77,
   "metadata": {},
   "outputs": [
    {
     "data": {
      "text/plain": [
       "array(['Overall', 'Gender', 'Race/Ethnicity'], dtype=object)"
      ]
     },
     "execution_count": 77,
     "metadata": {},
     "output_type": "execute_result"
    }
   ],
   "source": [
    "pd.unique(df_sub['StratificationCategory1'])"
   ]
  },
  {
   "cell_type": "code",
   "execution_count": 78,
   "metadata": {},
   "outputs": [],
   "source": [
    "incidence_race = df_sub[(df_sub.Question == 'Arthritis among adults aged >= 18 years') & (df_sub.LocationAbbr == 'US') & (df_sub.StratificationCategory1 == \"Race/Ethnicity\") & (df_sub.DataValueType == 'Age-adjusted Prevalence')]"
   ]
  },
  {
   "cell_type": "code",
   "execution_count": 80,
   "metadata": {},
   "outputs": [
    {
     "data": {
      "text/html": [
       "<div>\n",
       "<style scoped>\n",
       "    .dataframe tbody tr th:only-of-type {\n",
       "        vertical-align: middle;\n",
       "    }\n",
       "\n",
       "    .dataframe tbody tr th {\n",
       "        vertical-align: top;\n",
       "    }\n",
       "\n",
       "    .dataframe thead th {\n",
       "        text-align: right;\n",
       "    }\n",
       "</style>\n",
       "<table border=\"1\" class=\"dataframe\">\n",
       "  <thead>\n",
       "    <tr style=\"text-align: right;\">\n",
       "      <th></th>\n",
       "      <th>YearStart</th>\n",
       "      <th>LocationAbbr</th>\n",
       "      <th>LocationDesc</th>\n",
       "      <th>Question</th>\n",
       "      <th>DataValueUnit</th>\n",
       "      <th>DataValueType</th>\n",
       "      <th>DataValue</th>\n",
       "      <th>DatavalueFootnote</th>\n",
       "      <th>StratificationCategory1</th>\n",
       "      <th>Stratification1</th>\n",
       "      <th>GeoLocation</th>\n",
       "    </tr>\n",
       "  </thead>\n",
       "  <tbody>\n",
       "  </tbody>\n",
       "</table>\n",
       "</div>"
      ],
      "text/plain": [
       "Empty DataFrame\n",
       "Columns: [YearStart, LocationAbbr, LocationDesc, Question, DataValueUnit, DataValueType, DataValue, DatavalueFootnote, StratificationCategory1, Stratification1, GeoLocation]\n",
       "Index: []"
      ]
     },
     "execution_count": 80,
     "metadata": {},
     "output_type": "execute_result"
    }
   ],
   "source": [
    "incidence_race"
   ]
  },
  {
   "cell_type": "code",
   "execution_count": 79,
   "metadata": {},
   "outputs": [],
   "source": [
    "incidence_race2 = df_sub[(df_sub.LocationAbbr == 'US') & (df_sub.StratificationCategory1 == \"Race/Ethnicity\") & (df_sub.DataValueType == 'Age-adjusted Prevalence')]"
   ]
  },
  {
   "cell_type": "code",
   "execution_count": 81,
   "metadata": {},
   "outputs": [
    {
     "data": {
      "text/html": [
       "<div>\n",
       "<style scoped>\n",
       "    .dataframe tbody tr th:only-of-type {\n",
       "        vertical-align: middle;\n",
       "    }\n",
       "\n",
       "    .dataframe tbody tr th {\n",
       "        vertical-align: top;\n",
       "    }\n",
       "\n",
       "    .dataframe thead th {\n",
       "        text-align: right;\n",
       "    }\n",
       "</style>\n",
       "<table border=\"1\" class=\"dataframe\">\n",
       "  <thead>\n",
       "    <tr style=\"text-align: right;\">\n",
       "      <th></th>\n",
       "      <th>YearStart</th>\n",
       "      <th>LocationAbbr</th>\n",
       "      <th>LocationDesc</th>\n",
       "      <th>Question</th>\n",
       "      <th>DataValueUnit</th>\n",
       "      <th>DataValueType</th>\n",
       "      <th>DataValue</th>\n",
       "      <th>DatavalueFootnote</th>\n",
       "      <th>StratificationCategory1</th>\n",
       "      <th>Stratification1</th>\n",
       "      <th>GeoLocation</th>\n",
       "    </tr>\n",
       "  </thead>\n",
       "  <tbody>\n",
       "    <tr>\n",
       "      <th>17766</th>\n",
       "      <td>2011</td>\n",
       "      <td>US</td>\n",
       "      <td>United States</td>\n",
       "      <td>Arthritis among adults aged &gt;= 18 years who ar...</td>\n",
       "      <td>%</td>\n",
       "      <td>Age-adjusted Prevalence</td>\n",
       "      <td>30.8</td>\n",
       "      <td>50 States + DC: US Median</td>\n",
       "      <td>Race/Ethnicity</td>\n",
       "      <td>Black, non-Hispanic</td>\n",
       "      <td></td>\n",
       "    </tr>\n",
       "    <tr>\n",
       "      <th>17768</th>\n",
       "      <td>2011</td>\n",
       "      <td>US</td>\n",
       "      <td>United States</td>\n",
       "      <td>Arthritis among adults aged &gt;= 18 years who ar...</td>\n",
       "      <td>%</td>\n",
       "      <td>Age-adjusted Prevalence</td>\n",
       "      <td>23.6</td>\n",
       "      <td>50 States + DC: US Median</td>\n",
       "      <td>Race/Ethnicity</td>\n",
       "      <td>Hispanic</td>\n",
       "      <td></td>\n",
       "    </tr>\n",
       "    <tr>\n",
       "      <th>17770</th>\n",
       "      <td>2011</td>\n",
       "      <td>US</td>\n",
       "      <td>United States</td>\n",
       "      <td>Arthritis among adults aged &gt;= 18 years who ar...</td>\n",
       "      <td>%</td>\n",
       "      <td>Age-adjusted Prevalence</td>\n",
       "      <td>37.6</td>\n",
       "      <td>50 States + DC: US Median</td>\n",
       "      <td>Race/Ethnicity</td>\n",
       "      <td>Multiracial, non-Hispanic</td>\n",
       "      <td></td>\n",
       "    </tr>\n",
       "    <tr>\n",
       "      <th>17771</th>\n",
       "      <td>2011</td>\n",
       "      <td>US</td>\n",
       "      <td>United States</td>\n",
       "      <td>Arthritis among adults aged &gt;= 18 years who ar...</td>\n",
       "      <td>%</td>\n",
       "      <td>Age-adjusted Prevalence</td>\n",
       "      <td>31.0</td>\n",
       "      <td>50 States + DC: US Median</td>\n",
       "      <td>Race/Ethnicity</td>\n",
       "      <td>Other, non-Hispanic</td>\n",
       "      <td></td>\n",
       "    </tr>\n",
       "    <tr>\n",
       "      <th>17773</th>\n",
       "      <td>2011</td>\n",
       "      <td>US</td>\n",
       "      <td>United States</td>\n",
       "      <td>Arthritis among adults aged &gt;= 18 years who ar...</td>\n",
       "      <td>%</td>\n",
       "      <td>Age-adjusted Prevalence</td>\n",
       "      <td>32.0</td>\n",
       "      <td>50 States + DC: US Median</td>\n",
       "      <td>Race/Ethnicity</td>\n",
       "      <td>White, non-Hispanic</td>\n",
       "      <td></td>\n",
       "    </tr>\n",
       "  </tbody>\n",
       "</table>\n",
       "</div>"
      ],
      "text/plain": [
       "       YearStart LocationAbbr   LocationDesc  \\\n",
       "17766       2011           US  United States   \n",
       "17768       2011           US  United States   \n",
       "17770       2011           US  United States   \n",
       "17771       2011           US  United States   \n",
       "17773       2011           US  United States   \n",
       "\n",
       "                                                Question DataValueUnit  \\\n",
       "17766  Arthritis among adults aged >= 18 years who ar...             %   \n",
       "17768  Arthritis among adults aged >= 18 years who ar...             %   \n",
       "17770  Arthritis among adults aged >= 18 years who ar...             %   \n",
       "17771  Arthritis among adults aged >= 18 years who ar...             %   \n",
       "17773  Arthritis among adults aged >= 18 years who ar...             %   \n",
       "\n",
       "                 DataValueType  DataValue          DatavalueFootnote  \\\n",
       "17766  Age-adjusted Prevalence       30.8  50 States + DC: US Median   \n",
       "17768  Age-adjusted Prevalence       23.6  50 States + DC: US Median   \n",
       "17770  Age-adjusted Prevalence       37.6  50 States + DC: US Median   \n",
       "17771  Age-adjusted Prevalence       31.0  50 States + DC: US Median   \n",
       "17773  Age-adjusted Prevalence       32.0  50 States + DC: US Median   \n",
       "\n",
       "      StratificationCategory1            Stratification1 GeoLocation  \n",
       "17766          Race/Ethnicity        Black, non-Hispanic              \n",
       "17768          Race/Ethnicity                   Hispanic              \n",
       "17770          Race/Ethnicity  Multiracial, non-Hispanic              \n",
       "17771          Race/Ethnicity        Other, non-Hispanic              \n",
       "17773          Race/Ethnicity        White, non-Hispanic              "
      ]
     },
     "execution_count": 81,
     "metadata": {},
     "output_type": "execute_result"
    }
   ],
   "source": [
    "incidence_race2"
   ]
  },
  {
   "cell_type": "code",
   "execution_count": 85,
   "metadata": {},
   "outputs": [],
   "source": [
    "incidence_race3 = df_sub[(df_sub.Question == 'Arthritis among adults aged >= 18 years') & (df_sub.StratificationCategory1 == \"Race/Ethnicity\") & (df_sub.DataValueType == 'Age-adjusted Prevalence')].groupby(['YearStart', 'Stratification1'])['DataValue'].count()"
   ]
  },
  {
   "cell_type": "code",
   "execution_count": 86,
   "metadata": {},
   "outputs": [
    {
     "data": {
      "text/plain": [
       "YearStart  Stratification1          \n",
       "2011       Black, non-Hispanic          40\n",
       "           Hispanic                     51\n",
       "           Multiracial, non-Hispanic    47\n",
       "           Other, non-Hispanic          52\n",
       "           White, non-Hispanic          53\n",
       "2012       Black, non-Hispanic          41\n",
       "           Hispanic                     53\n",
       "           Multiracial, non-Hispanic    49\n",
       "           Other, non-Hispanic          52\n",
       "           White, non-Hispanic          52\n",
       "2013       Black, non-Hispanic          41\n",
       "           Hispanic                     50\n",
       "           Multiracial, non-Hispanic    47\n",
       "           Other, non-Hispanic          51\n",
       "           White, non-Hispanic          52\n",
       "2014       Black, non-Hispanic          41\n",
       "           Hispanic                     50\n",
       "           Multiracial, non-Hispanic    50\n",
       "           Other, non-Hispanic          52\n",
       "           White, non-Hispanic          52\n",
       "2015       Black, non-Hispanic          44\n",
       "           Hispanic                     49\n",
       "           Multiracial, non-Hispanic    51\n",
       "           Other, non-Hispanic          52\n",
       "           White, non-Hispanic          52\n",
       "2016       Black, non-Hispanic          43\n",
       "           Hispanic                     51\n",
       "           Multiracial, non-Hispanic    49\n",
       "           Other, non-Hispanic          52\n",
       "           White, non-Hispanic          53\n",
       "Name: DataValue, dtype: int64"
      ]
     },
     "execution_count": 86,
     "metadata": {},
     "output_type": "execute_result"
    }
   ],
   "source": [
    "incidence_race3"
   ]
  },
  {
   "cell_type": "code",
   "execution_count": 87,
   "metadata": {},
   "outputs": [],
   "source": [
    "incidence_race4 = df_sub[(df_sub.Question == 'Arthritis among adults aged >= 18 years') & (df_sub.StratificationCategory1 == \"Race/Ethnicity\") & (df_sub.DataValueType == 'Age-adjusted Prevalence')].groupby(['YearStart', 'Stratification1'])['DataValue'].mean()"
   ]
  },
  {
   "cell_type": "code",
   "execution_count": 88,
   "metadata": {},
   "outputs": [
    {
     "data": {
      "text/plain": [
       "YearStart  Stratification1          \n",
       "2011       Black, non-Hispanic          25.027500\n",
       "           Hispanic                     21.219608\n",
       "           Multiracial, non-Hispanic    31.414894\n",
       "           Other, non-Hispanic          22.832692\n",
       "           White, non-Hispanic          23.901887\n",
       "2012       Black, non-Hispanic          26.156098\n",
       "           Hispanic                     21.873585\n",
       "           Multiracial, non-Hispanic    32.981633\n",
       "           Other, non-Hispanic          23.496154\n",
       "           White, non-Hispanic          24.861538\n",
       "2013       Black, non-Hispanic          25.802439\n",
       "           Hispanic                     21.020000\n",
       "           Multiracial, non-Hispanic    33.853191\n",
       "           Other, non-Hispanic          21.729412\n",
       "           White, non-Hispanic          24.421154\n",
       "2014       Black, non-Hispanic          26.343902\n",
       "           Hispanic                     20.454000\n",
       "           Multiracial, non-Hispanic    33.248000\n",
       "           Other, non-Hispanic          22.846154\n",
       "           White, non-Hispanic          24.919231\n",
       "2015       Black, non-Hispanic          24.588636\n",
       "           Hispanic                     19.465306\n",
       "           Multiracial, non-Hispanic    32.650980\n",
       "           Other, non-Hispanic          21.825000\n",
       "           White, non-Hispanic          24.367308\n",
       "2016       Black, non-Hispanic          24.795349\n",
       "           Hispanic                     19.805882\n",
       "           Multiracial, non-Hispanic    33.340816\n",
       "           Other, non-Hispanic          21.451923\n",
       "           White, non-Hispanic          24.794340\n",
       "Name: DataValue, dtype: float64"
      ]
     },
     "execution_count": 88,
     "metadata": {},
     "output_type": "execute_result"
    }
   ],
   "source": [
    "incidence_race4"
   ]
  },
  {
   "cell_type": "code",
   "execution_count": null,
   "metadata": {},
   "outputs": [],
   "source": []
  },
  {
   "cell_type": "markdown",
   "metadata": {},
   "source": [
    "### 3. Which states had the highest and lowest incidence of arthritis in 2015 ?"
   ]
  },
  {
   "cell_type": "code",
   "execution_count": null,
   "metadata": {},
   "outputs": [],
   "source": []
  },
  {
   "cell_type": "code",
   "execution_count": null,
   "metadata": {},
   "outputs": [],
   "source": []
  },
  {
   "cell_type": "code",
   "execution_count": null,
   "metadata": {},
   "outputs": [],
   "source": []
  },
  {
   "cell_type": "code",
   "execution_count": null,
   "metadata": {},
   "outputs": [],
   "source": []
  },
  {
   "cell_type": "markdown",
   "metadata": {},
   "source": [
    "## Visualization"
   ]
  },
  {
   "cell_type": "markdown",
   "metadata": {},
   "source": [
    "### How does overall incidence vary by gender?"
   ]
  },
  {
   "cell_type": "code",
   "execution_count": 89,
   "metadata": {},
   "outputs": [],
   "source": [
    "ai = annual_incidence[['YearStart', 'DataValue']].sort_values(by='YearStart')"
   ]
  },
  {
   "cell_type": "code",
   "execution_count": 90,
   "metadata": {},
   "outputs": [
    {
     "data": {
      "text/html": [
       "<div>\n",
       "<style scoped>\n",
       "    .dataframe tbody tr th:only-of-type {\n",
       "        vertical-align: middle;\n",
       "    }\n",
       "\n",
       "    .dataframe tbody tr th {\n",
       "        vertical-align: top;\n",
       "    }\n",
       "\n",
       "    .dataframe thead th {\n",
       "        text-align: right;\n",
       "    }\n",
       "</style>\n",
       "<table border=\"1\" class=\"dataframe\">\n",
       "  <thead>\n",
       "    <tr style=\"text-align: right;\">\n",
       "      <th></th>\n",
       "      <th>YearStart</th>\n",
       "      <th>DataValue</th>\n",
       "    </tr>\n",
       "  </thead>\n",
       "  <tbody>\n",
       "    <tr>\n",
       "      <th>17330</th>\n",
       "      <td>2011</td>\n",
       "      <td>24.4</td>\n",
       "    </tr>\n",
       "    <tr>\n",
       "      <th>12109</th>\n",
       "      <td>2012</td>\n",
       "      <td>25.7</td>\n",
       "    </tr>\n",
       "    <tr>\n",
       "      <th>28638</th>\n",
       "      <td>2013</td>\n",
       "      <td>25.3</td>\n",
       "    </tr>\n",
       "    <tr>\n",
       "      <th>23418</th>\n",
       "      <td>2014</td>\n",
       "      <td>26.0</td>\n",
       "    </tr>\n",
       "    <tr>\n",
       "      <th>6027</th>\n",
       "      <td>2015</td>\n",
       "      <td>25.3</td>\n",
       "    </tr>\n",
       "    <tr>\n",
       "      <th>4</th>\n",
       "      <td>2016</td>\n",
       "      <td>25.8</td>\n",
       "    </tr>\n",
       "  </tbody>\n",
       "</table>\n",
       "</div>"
      ],
      "text/plain": [
       "       YearStart  DataValue\n",
       "17330       2011       24.4\n",
       "12109       2012       25.7\n",
       "28638       2013       25.3\n",
       "23418       2014       26.0\n",
       "6027        2015       25.3\n",
       "4           2016       25.8"
      ]
     },
     "execution_count": 90,
     "metadata": {},
     "output_type": "execute_result"
    }
   ],
   "source": [
    "ai"
   ]
  },
  {
   "cell_type": "code",
   "execution_count": 91,
   "metadata": {},
   "outputs": [
    {
     "data": {
      "text/plain": [
       "<matplotlib.axes._subplots.AxesSubplot at 0x111620950>"
      ]
     },
     "execution_count": 91,
     "metadata": {},
     "output_type": "execute_result"
    },
    {
     "data": {
      "image/png": "[encoded data removed]",
      "text/plain": [
       "<Figure size 432x288 with 1 Axes>"
      ]
     },
     "metadata": {},
     "output_type": "display_data"
    }
   ],
   "source": [
    "ai.set_index('YearStart')['DataValue'].plot.bar()"
   ]
  },
  {
   "cell_type": "code",
   "execution_count": 93,
   "metadata": {},
   "outputs": [],
   "source": [
    "gender_incidence = df_sub[(df_sub.Question == 'Arthritis among adults aged >= 18 years') & (df_sub.LocationAbbr == 'US') & (df_sub.DataValueType == 'Crude Prevalence')].groupby(['YearStart', 'Stratification1'])['DataValue'].mean()"
   ]
  },
  {
   "cell_type": "code",
   "execution_count": 94,
   "metadata": {},
   "outputs": [
    {
     "data": {
      "text/plain": [
       "YearStart  Stratification1\n",
       "2011       Female             28.2\n",
       "           Male               20.7\n",
       "           Overall            24.4\n",
       "2012       Female             28.9\n",
       "           Male               22.4\n",
       "           Overall            25.7\n",
       "2013       Female             29.0\n",
       "           Male               21.6\n",
       "           Overall            25.3\n",
       "2014       Female             29.9\n",
       "           Male               22.4\n",
       "           Overall            26.0\n",
       "2015       Female             29.0\n",
       "           Male               22.0\n",
       "           Overall            25.3\n",
       "2016       Female             29.0\n",
       "           Male               22.1\n",
       "           Overall            25.8\n",
       "Name: DataValue, dtype: float64"
      ]
     },
     "execution_count": 94,
     "metadata": {},
     "output_type": "execute_result"
    }
   ],
   "source": [
    "gender_incidence"
   ]
  },
  {
   "cell_type": "code",
   "execution_count": 96,
   "metadata": {},
   "outputs": [
    {
     "data": {
      "text/plain": [
       "<matplotlib.axes._subplots.AxesSubplot at 0x11160ee90>"
      ]
     },
     "execution_count": 96,
     "metadata": {},
     "output_type": "execute_result"
    },
    {
     "data": {
      "image/png": "[encoded data removed]",
      "text/plain": [
       "<Figure size 432x288 with 1 Axes>"
      ]
     },
     "metadata": {},
     "output_type": "display_data"
    }
   ],
   "source": [
    "gif = gender_incidence.unstack()\n",
    "gif.plot.bar()"
   ]
  },
  {
   "cell_type": "code",
   "execution_count": 98,
   "metadata": {},
   "outputs": [],
   "source": [
    "import seaborn as sns"
   ]
  },
  {
   "cell_type": "code",
   "execution_count": 99,
   "metadata": {},
   "outputs": [],
   "source": [
    "sns.set()"
   ]
  },
  {
   "cell_type": "markdown",
   "metadata": {},
   "source": [
    "Some visualization libraries - Bokey, Altair, plotly, "
   ]
  },
  {
   "cell_type": "markdown",
   "metadata": {},
   "source": [
    "nbconvert\n",
    "\n",
    "brew install pandoc"
   ]
  },
  {
   "cell_type": "markdown",
   "metadata": {},
   "source": [
    "juypter nbconvert --to html Data_Analysis.ipynb"
   ]
  },
  {
   "cell_type": "markdown",
   "metadata": {},
   "source": [
    "RISE - jupyter notebook slideshow extension"
   ]
  },
  {
   "cell_type": "code",
   "execution_count": null,
   "metadata": {},
   "outputs": [],
   "source": []
  },
  {
   "cell_type": "code",
   "execution_count": null,
   "metadata": {},
   "outputs": [],
   "source": []
  }
 ],
 "metadata": {
  "kernelspec": {
   "display_name": "Python 2",
   "language": "python",
   "name": "python2"
  },
  "language_info": {
   "codemirror_mode": {
    "name": "ipython",
    "version": 2
   },
   "file_extension": ".py",
   "mimetype": "text/x-python",
   "name": "python",
   "nbconvert_exporter": "python",
   "pygments_lexer": "ipython2",
   "version": "2.7.15"
  }
 },
 "nbformat": 4,
 "nbformat_minor": 2
}
